{
  "nbformat": 4,
  "nbformat_minor": 0,
  "metadata": {
    "colab": {
      "name": "Team_randomizer.ipynb",
      "provenance": [],
      "authorship_tag": "ABX9TyMVxmOXYyG6mIPnnAtNir48",
      "include_colab_link": true
    },
    "kernelspec": {
      "name": "python3",
      "display_name": "Python 3"
    },
    "language_info": {
      "name": "python"
    }
  },
  "cells": [
    {
      "cell_type": "markdown",
      "metadata": {
        "id": "view-in-github",
        "colab_type": "text"
      },
      "source": [
        "<a href=\"https://colab.research.google.com/github/rcpaffenroth/DS3010_public/blob/main/Team_randomizer.ipynb\" target=\"_parent\"><img src=\"https://colab.research.google.com/assets/colab-badge.svg\" alt=\"Open In Colab\"/></a>"
      ]
    },
    {
      "cell_type": "code",
      "execution_count": 1,
      "metadata": {
        "id": "GHR6oIQ9ciFe"
      },
      "outputs": [],
      "source": [
        "teams = [1,5,6,7,8,9,10,11,14,19,21]"
      ]
    },
    {
      "cell_type": "code",
      "source": [
        "len(teams)"
      ],
      "metadata": {
        "colab": {
          "base_uri": "https://localhost:8080/"
        },
        "id": "7iAetMDpcu-J",
        "outputId": "09d1192a-5e21-4b4f-da1f-d6be3e4ce057"
      },
      "execution_count": 2,
      "outputs": [
        {
          "output_type": "execute_result",
          "data": {
            "text/plain": [
              "11"
            ]
          },
          "metadata": {},
          "execution_count": 2
        }
      ]
    },
    {
      "cell_type": "code",
      "source": [
        "import random"
      ],
      "metadata": {
        "id": "-hIEh0XWcwQf"
      },
      "execution_count": 3,
      "outputs": []
    },
    {
      "cell_type": "code",
      "source": [
        "random.sample(teams, 6)"
      ],
      "metadata": {
        "id": "oibXxhNSc7BS"
      },
      "execution_count": null,
      "outputs": []
    }
  ]
}