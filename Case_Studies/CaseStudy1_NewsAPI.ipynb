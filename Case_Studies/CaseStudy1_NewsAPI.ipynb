{
  "cells": [
    {
      "cell_type": "markdown",
      "metadata": {
        "id": "view-in-github",
        "colab_type": "text"
      },
      "source": [
        "<a href=\"https://colab.research.google.com/github/ashleighperez/DS3010_A/blob/main/Case_Studies/CaseStudy1_NewsAPI.ipynb\" target=\"_parent\"><img src=\"https://colab.research.google.com/assets/colab-badge.svg\" alt=\"Open In Colab\"/></a>"
      ]
    },
    {
      "cell_type": "markdown",
      "metadata": {
        "id": "fsjq366HA18T"
      },
      "source": [
        "# Case Study 1 : Collecting Data from NewsAPI\n",
        "\n",
        "Due Date: 11/10/2023, **BEFORE the beginning of class at 12:00pm EST**\n",
        "\n",
        "## **NOTE: There are *always* last minute issues submitting the case studies.  DO NOT WAIT UNTIL THE LAST MINUTE!**"
      ]
    },
    {
      "cell_type": "markdown",
      "metadata": {
        "id": "31lTqAzjA18W"
      },
      "source": [
        "<img src=\"data:image/png;base64,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\">"
      ]
    },
    {
      "cell_type": "markdown",
      "metadata": {
        "id": "nRnGkCSRA18X"
      },
      "source": [
        "**TEAM Members:** Please EDIT this cell and add the names of all the team members in your team\n",
        "\n",
        "    Ashleigh Perez\n",
        "    \n",
        "    Srisaranya Pujari\n",
        "    \n",
        "    Diana Binney"
      ]
    },
    {
      "cell_type": "markdown",
      "metadata": {
        "id": "Fxc6cgPOA18Y"
      },
      "source": [
        "**Suggested Readings:**\n",
        "* The NewsAPI documentation: https://newsapi.org/docs\n",
        "* The Python library for NewsAPI: https://newsapi.org/docs/client-libraries/python\n",
        "* The Pyhon notebook I used in class 3\n",
        "  * In fact, it is intentional that many of these questions can be answered directly from there (except for question 4)!\n",
        "* The idea is to ease you into the case studies :-)\n",
        "\n",
        "**Don't forget!**\n",
        "* You will need to install the newsapi-python library to access NewsAPI\n",
        " * pip install newsapi-python\n",
        "* You will need to get an API key from NewsAPI to access the data\n",
        "  * https://newsapi.org/register\n",
        "\n",
        "\n",
        "** NOTE **\n",
        "* **Please don't forget to save the notebook frequently when working in IPython Notebook, otherwise the changes you made can be lost**."
      ]
    },
    {
      "cell_type": "markdown",
      "metadata": {
        "id": "e-uJJaulA18Y"
      },
      "source": [
        "# Problem 1 (20 points): Sampling NewsAPI data a certain topic"
      ]
    },
    {
      "cell_type": "markdown",
      "metadata": {
        "id": "jWqIK-0VA18Y"
      },
      "source": [
        "* Select a topic that you are interested in, for example, \"WPI\" or \"Lady Gaga\"\n",
        "* Use the NewsAPI to sample a collection of news articles about this topic. (It would be recommended that the number of articles should be larger than 200, but smaller than 100,000.\n",
        "* Store the articles you downloaded into file on Google Drive (txt file or json file)"
      ]
    },
    {
      "cell_type": "code",
      "execution_count": 1,
      "metadata": {
        "id": "UHlfqylGDAEo",
        "outputId": "83a6304b-5563-46d2-bc07-aee6142c3c13",
        "colab": {
          "base_uri": "https://localhost:8080/"
        }
      },
      "outputs": [
        {
          "output_type": "stream",
          "name": "stdout",
          "text": [
            "Collecting newsapi-python\n",
            "  Downloading newsapi_python-0.2.7-py2.py3-none-any.whl (7.9 kB)\n",
            "Requirement already satisfied: requests<3.0.0 in /usr/local/lib/python3.10/dist-packages (from newsapi-python) (2.31.0)\n",
            "Requirement already satisfied: charset-normalizer<4,>=2 in /usr/local/lib/python3.10/dist-packages (from requests<3.0.0->newsapi-python) (3.3.2)\n",
            "Requirement already satisfied: idna<4,>=2.5 in /usr/local/lib/python3.10/dist-packages (from requests<3.0.0->newsapi-python) (3.4)\n",
            "Requirement already satisfied: urllib3<3,>=1.21.1 in /usr/local/lib/python3.10/dist-packages (from requests<3.0.0->newsapi-python) (2.0.7)\n",
            "Requirement already satisfied: certifi>=2017.4.17 in /usr/local/lib/python3.10/dist-packages (from requests<3.0.0->newsapi-python) (2023.7.22)\n",
            "Installing collected packages: newsapi-python\n",
            "Successfully installed newsapi-python-0.2.7\n"
          ]
        }
      ],
      "source": [
        "! pip install newsapi-python"
      ]
    },
    {
      "cell_type": "code",
      "execution_count": 3,
      "metadata": {
        "id": "3DcAmeG9A18Z",
        "outputId": "4050a520-e4f7-4fba-8edb-4583ca5c4706",
        "colab": {
          "base_uri": "https://localhost:8080/"
        }
      },
      "outputs": [
        {
          "output_type": "stream",
          "name": "stdout",
          "text": [
            "<newsapi.newsapi_client.NewsApiClient object at 0x78a08407b3a0>\n"
          ]
        }
      ],
      "source": [
        "from newsapi import NewsApiClient\n",
        "\n",
        "# See https://newsapi.org/docs for more information\n",
        "# on NewsAPI implementation.\n",
        "\n",
        "API_KEY = '33a842ee09bc496cbe65f5b3ae90c200'\n",
        "\n",
        "newsapi = NewsApiClient(api_key=API_KEY)\n",
        "print(newsapi)"
      ]
    },
    {
      "cell_type": "markdown",
      "metadata": {
        "id": "BgU_ryKOA18d"
      },
      "source": [
        "### Report some statistics about the news articles you collected\n",
        "\n",
        "* The topic of interest: < INSERT YOUR TOPIC HERE>\n",
        "\n",
        "\n",
        "* The total number of news articles collected:  < INSERT THE NUMBER HERE>"
      ]
    },
    {
      "cell_type": "code",
      "source": [
        "#----------------------------------------------\n",
        "# Your code starts here\n",
        "#   Please add comments or text cells in between to explain the general idea of each block of the code.\n",
        "#   Please feel free to add more cells below this cell if necessary\n"
      ],
      "metadata": {
        "id": "SdlB7r0YdPdu"
      },
      "execution_count": null,
      "outputs": []
    },
    {
      "cell_type": "markdown",
      "metadata": {
        "id": "BUNy7CEJA18d"
      },
      "source": [
        "*-----------------------"
      ]
    },
    {
      "cell_type": "markdown",
      "metadata": {
        "id": "xf-F4wHqaC3f"
      },
      "source": []
    },
    {
      "cell_type": "markdown",
      "metadata": {
        "id": "xHvwKm5sA18e"
      },
      "source": [
        "# Problem 2 (20 points): Analyzing News Articles with Frequency Analysis\n",
        "\n",
        "**1. Word Count:**\n",
        "* Use the news articles you collected in Problem 1, and compute the frequencies of the words being used in these articles.\n",
        "* Note, you can use various parts of the articles (e.g. the tite, the description, the content) to compute the word frequencies.\n",
        "  * Which is most useful?\n",
        "* Plot a table of the top 30 words with their counts"
      ]
    },
    {
      "cell_type": "markdown",
      "source": [],
      "metadata": {
        "id": "rs3TO8o2bbFV"
      }
    },
    {
      "cell_type": "markdown",
      "source": [
        "*Hint: One way to make very easy and asethestic way to make tables in Python is using the PrettyTable package. While using PrettyTable is not required for full credit, some starter code for using them is provided for Question 2.1 and 2.2*  "
      ],
      "metadata": {
        "id": "9VIs8RWeaLX1"
      }
    },
    {
      "cell_type": "code",
      "source": [
        "! pip install prettytable\n",
        "from prettytable import PrettyTable\n",
        "\n",
        "# Example Table\n",
        "example_table = PrettyTable() # Initialize Table\n",
        "example_table.field_names = [\"Course Name\", \"Department\"] # Declare column names\n",
        "\n",
        "# Add each row\n",
        "example_table.add_row([\"DS3010\", \"Data Science\"])\n",
        "example_table.add_row([\"CS4120\", \"Computer Science\"])\n",
        "example_table.add_row([\"MIS 4084\", \"Business\"])\n",
        "\n",
        "# Display table\n",
        "print(example_table)"
      ],
      "metadata": {
        "colab": {
          "base_uri": "https://localhost:8080/"
        },
        "id": "AWCOwS4MaKBu",
        "outputId": "1e89e7dd-d577-49e8-ef64-538ebdf487da"
      },
      "execution_count": null,
      "outputs": [
        {
          "output_type": "stream",
          "name": "stdout",
          "text": [
            "Requirement already satisfied: prettytable in /usr/local/lib/python3.10/dist-packages (3.9.0)\n",
            "Requirement already satisfied: wcwidth in /usr/local/lib/python3.10/dist-packages (from prettytable) (0.2.8)\n",
            "+-------------+------------------+\n",
            "| Course Name |    Department    |\n",
            "+-------------+------------------+\n",
            "|    DS3010   |   Data Science   |\n",
            "|    CS4120   | Computer Science |\n",
            "|   MIS 4084  |     Business     |\n",
            "+-------------+------------------+\n"
          ]
        }
      ]
    },
    {
      "cell_type": "code",
      "execution_count": null,
      "metadata": {
        "id": "V_ZHKBRuA18e"
      },
      "outputs": [],
      "source": [
        "#----------------------------------------------\n",
        "# Your code starts here\n",
        "#   Please add comments or text cells in between to explain the general idea of each block of the code.\n",
        "#   Please feel free to add more cells below this cell if necessary\n"
      ]
    },
    {
      "cell_type": "markdown",
      "metadata": {
        "id": "DMigKzFlA18e"
      },
      "source": [
        "**2. Find the most popular news sources and authors in your articles**\n",
        "\n",
        "* Please provide a table of the top 10 authors and sources that are the most popular among your collection.\n"
      ]
    },
    {
      "cell_type": "code",
      "execution_count": null,
      "metadata": {
        "id": "JrxgbEBRA18f"
      },
      "outputs": [],
      "source": [
        "\n",
        "#----------------------------------------------\n",
        "# Your code starts here\n",
        "#   Please add comments or text cells in between to explain the general idea of each block of the code.\n",
        "#   Please feel free to add more cells below this cell if necessary\n"
      ]
    },
    {
      "cell_type": "markdown",
      "metadata": {
        "id": "fbUOQT32A18f"
      },
      "source": [
        "**3. What is the lexical diversity in your descriptions and contents**\n",
        "\n",
        "* For two popular authors or two popular sources, please compare the lexical diversity of their descriptions and contents.  \n",
        "Which one is more diverse?  \n",
        "  * Open ended questions: Does this make sense?  Why or why not? What might lexical diversity tell us about the author or source?"
      ]
    },
    {
      "cell_type": "code",
      "execution_count": null,
      "metadata": {
        "id": "DKYkobrzA18f"
      },
      "outputs": [],
      "source": [
        "#----------------------------------------------\n",
        "# Your code starts here\n",
        "#   Please add comments or text cells in between to explain the general idea of each block of the code.\n",
        "#   Please feel free to add more cells below this cell if necessary\n"
      ]
    },
    {
      "cell_type": "markdown",
      "source": [],
      "metadata": {
        "id": "wDEowibWd8jp"
      }
    },
    {
      "cell_type": "markdown",
      "metadata": {
        "id": "sLEC3fX_A18g"
      },
      "source": [
        "\n",
        "\n",
        "# Problem 3 (20 points): Image processing\n"
      ]
    },
    {
      "cell_type": "markdown",
      "metadata": {
        "id": "-wTKbSAnA18g"
      },
      "source": [
        "* For each news article, download the image associated with it (using the urlToImage field).\n",
        "* Do these images tell you anything about the news articles?  If so, what?"
      ]
    },
    {
      "cell_type": "code",
      "execution_count": null,
      "metadata": {
        "id": "YI8np92oA18h"
      },
      "outputs": [],
      "source": [
        "#----------------------------------------------\n",
        "# Your code starts here\n",
        "#   Please add comments or text cells in between to explain the general idea of each block of the code.\n",
        "#   Please feel free to add more cells below this cell if necessary\n",
        "\n",
        "\n"
      ]
    },
    {
      "cell_type": "markdown",
      "source": [],
      "metadata": {
        "id": "fveqbyjxeHKQ"
      }
    },
    {
      "cell_type": "markdown",
      "metadata": {
        "id": "cGOvRwzxA18h"
      },
      "source": [
        "* Let's automate the process!  Use Hugging Face's transformers library to download a pre-trained image segmentation model.\n",
        "  * See my notebook from class 3 for an example of how to do this.\n",
        "* Open ended question: Collect statistics on what appears in the images for your news articles? What does this tell you?"
      ]
    },
    {
      "cell_type": "code",
      "execution_count": null,
      "metadata": {
        "id": "FGOM-EKTA18i"
      },
      "outputs": [],
      "source": [
        "#----------------------------------------------\n",
        "# Your code starts here\n",
        "#   Please add comments or text cells in between to explain the general idea of each block of the code.\n",
        "#   Please feel free to add more cells below this cell if necessary\n",
        "\n",
        "\n"
      ]
    },
    {
      "cell_type": "markdown",
      "source": [],
      "metadata": {
        "id": "Q2e8ivKxeIbA"
      }
    },
    {
      "cell_type": "markdown",
      "metadata": {
        "id": "4B53GdUzA18i"
      },
      "source": [
        "\n",
        "\n",
        "# Problem 4 (20 points): Business question\n",
        "\n",
        "Run some additional experiments with your data to gain familiarity with the NewsAPI.\n",
        "\n",
        "* Come up with a business question that NewsAPI data could help answer.\n",
        "* Decribe the business case.\n",
        "* How could NewsAPI data help a company decide how to spend its resources."
      ]
    },
    {
      "cell_type": "code",
      "execution_count": null,
      "metadata": {
        "id": "FomaD-F0A18i"
      },
      "outputs": [],
      "source": [
        "#----------------------------------------------\n",
        "# Your code starts here\n",
        "#   Please add comments or text cells in between to explain the general idea of each block of the code.\n",
        "#   Please feel free to add more cells below this cell if necessary\n",
        "\n",
        "\n",
        "\n"
      ]
    },
    {
      "cell_type": "markdown",
      "source": [],
      "metadata": {
        "id": "JDN4q-q5eCE-"
      }
    },
    {
      "cell_type": "markdown",
      "metadata": {
        "id": "qCrHmit6A18j"
      },
      "source": [
        "\n",
        "# Done\n",
        "\n",
        "All set!\n",
        "\n",
        "** What do you need to submit?**\n",
        "\n",
        "* **Notebook File**: Save this IPython notebook, and find the notebook file in your folder (for example, \"filename.ipynb\"). This is the file you need to submit. Please make sure all the plotted tables and figures are in the notebook. If you used \"ipython notebook --pylab=inline\" to open the notebook, all the figures and tables should have shown up in the notebook.\n",
        "\n",
        "\n",
        "* **PPT Slides**: please prepare PPT slides (for 15 minutes' talk) to present about the case study . ALL TEAMS WILL PRESENT THEIR WORK!\n",
        "\n",
        "* ** Report**: please prepare a report (less than 10 pages) to report what you found in the data.\n",
        "    * What data you collected?\n",
        "    * Why this topic is interesting or important to you? (Motivations)\n",
        "    * How did you analyse the data?\n",
        "    * What did you find in the data?\n",
        "\n",
        "     (please include figures or tables in the report, but no source code)\n",
        "\n",
        "Please compress all the files in a zipped file.\n",
        "\n",
        "\n",
        "** How to submit: **\n",
        "\n",
        "        Please submit a single zip file with all the materials through the class canvas site.\n",
        "        \n",
        "** Note: Each team just needs to submits one submission **"
      ]
    },
    {
      "cell_type": "markdown",
      "metadata": {
        "id": "w_y_VpkSA18j"
      },
      "source": [
        "# Grading Criteria:\n",
        "\n",
        "** Totoal Points: 100 **\n",
        "\n",
        "\n",
        "---------------------------------------------------------------------------\n",
        "** Notebook results:  **\n",
        "    Points: 80\n",
        "\n",
        "\n",
        "    -----------------------------------\n",
        "    Qestion 1:\n",
        "    Points: 20\n",
        "    -----------------------------------\n",
        "    \n",
        "    (1) Select a topic that you are interested in.\n",
        "    Points: 6\n",
        "    \n",
        "    (2) Use the NewsAPI to sample a collection of news articles about this topic. (It would be recommended that the number of articles should be larger than 200, but smaller than 100,000. Please check whether the total number of tweets collected is larger than 200.\n",
        "    Points: 10\n",
        "    \n",
        "    \n",
        "    (3) Store the articles you downloaded into a file on Google Drive (txt file or json file)\n",
        "    Points: 4\n",
        "    \n",
        "    \n",
        "    -----------------------------------\n",
        "    Qestion 2:\n",
        "    Points: 20\n",
        "    -----------------------------------\n",
        "    \n",
        "    1. Word Count\n",
        "\n",
        "    (1) Use the news articles you collected in Problem 1, and compute the frequencies of the words being used in these articles.\n",
        "    Points: 5\n",
        "\n",
        "    (2) Plot a table of the top 30 words with their counts\n",
        "    Points: 5\n",
        "    \n",
        "    2. Please provide a table of the top 10 authors and sources that are the most popular among your collection.\n",
        "    Points: 5\n",
        "    \n",
        "    3. For two popular authors or two popular sources, please compare the lexical diversity of their descriptions and contents.\n",
        "    Points: 5\n",
        "      \n",
        "    -----------------------------------\n",
        "    Qestion 3:\n",
        "    Points: 20\n",
        "    -----------------------------------\n",
        "    \n",
        "    (1) For each news article, download the image associated with it (using the urlToImage field).\n",
        "    Points: 10\n",
        "\n",
        "    (2) Use Hugging Face's transformers library to download a pre-trained image segmentation model.\n",
        "    Points: 10\n",
        "  \n",
        "    -----------------------------------\n",
        "    Qestion 4:  Business question\n",
        "    Points: 20\n",
        "    -----------------------------------\n",
        "        Novelty: 10\n",
        "        Interestingness: 10\n",
        "    -----------------------------------\n",
        "    Run some additional experiments with your data to gain familiarity with the NewsAPI.  Come up with a business question and describe how NewsAPI data can help you answer that question.\n",
        "\n",
        "\n",
        "\n",
        "---------------------------------------------------------------------------\n",
        "**Slides (for presentation): Story-telling**\n",
        "    Points: 20\n",
        "\n",
        "\n",
        "1. Motivation about the data collection, why the topic is interesting to you.\n",
        "    Points: 5\n",
        "\n",
        "2. Communicating Results (figure/table)\n",
        "    Points: 10\n",
        "\n",
        "3. Story telling (How all the parts (data, analysis, result) fit together as a story?)\n",
        "    Points: 5\n",
        "\n"
      ]
    },
    {
      "cell_type": "code",
      "execution_count": null,
      "metadata": {
        "id": "PscVSVMuA18j"
      },
      "outputs": [],
      "source": []
    }
  ],
  "metadata": {
    "anaconda-cloud": {},
    "colab": {
      "provenance": [],
      "include_colab_link": true
    },
    "kernel_info": {
      "name": "python3"
    },
    "kernelspec": {
      "display_name": "Python 3",
      "language": "python",
      "name": "python3"
    },
    "language_info": {
      "codemirror_mode": {
        "name": "ipython",
        "version": 3
      },
      "file_extension": ".py",
      "mimetype": "text/x-python",
      "name": "python",
      "nbconvert_exporter": "python",
      "pygments_lexer": "ipython3",
      "version": "3.8.5"
    },
    "nteract": {
      "version": "0.2.0"
    }
  },
  "nbformat": 4,
  "nbformat_minor": 0
}