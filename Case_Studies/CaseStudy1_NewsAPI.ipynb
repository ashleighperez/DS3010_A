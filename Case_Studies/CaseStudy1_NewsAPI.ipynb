{
  "cells": [
    {
      "cell_type": "markdown",
      "metadata": {
        "colab_type": "text",
        "id": "view-in-github"
      },
      "source": [
        "<a href=\"https://colab.research.google.com/github/ashleighperez/DS3010_A/blob/main/Case_Studies/CaseStudy1_NewsAPI.ipynb\" target=\"_parent\"><img src=\"https://colab.research.google.com/assets/colab-badge.svg\" alt=\"Open In Colab\"/></a>"
      ]
    },
    {
      "cell_type": "markdown",
      "metadata": {
        "id": "fsjq366HA18T"
      },
      "source": [
        "# Case Study 1 : Collecting Data from NewsAPI\n",
        "\n"
      ]
    },
    {
      "cell_type": "markdown",
      "metadata": {
        "id": "31lTqAzjA18W"
      },
      "source": [
        "<img src=\"data:image/png;base64,iVBORw0KGgoAAAANSUhEUgAAAZ0AAAB6CAMAAABTN34eAAAAjVBMVEUsc+j///8pcuhMhuvm7PsIaOcib+c4e+klcOh3oO/t8/0ebef4+/5lk+30+P4Ya+eTs/JEg+tQieuMq/CXtvLU3/kzeOne6fuwx/UAZeYzeurJ2fjq8f2rxPWduvPY4/q6zvalv/SCqPDA0fdxnO5ekOxznu/E1vh+pO9Kg+pbjOsAX+Zol+21yvWLr/Gw/CHCAAAP00lEQVR4nO1daXuiOhTGKJgaSqpVtMXWajfbq/7/n3fZknOyATOjz2Qs7zeVLedNzh4Mhj8M47TE+G8/RycE5KchKPG3n6Ibgh49evTo0aPHxUFDr/Gz/QH6Nhl5jMXjj6Ynuhn4jMm4Z8df9Oz4jJ4dn9Gz4zN6dnxGz47P6NnxGT07PqNnx2f07PiMnh2f0bPjM3p2fEbPjs/o2fEZPTs+o2fHZ/Ts+IxGdgjjNVgLh4RLsPPK77L4h9kh46eVQNRID0mP8sjtv0RPN3Zeb/YSNy/Ow7Z3Dsy3x2yd2E55goNef5WdGbpM2DRIMkZXbDzSM3RjZ8giCTZ0H8aZCzwMpzfHiXHKuzwlvP9ldmI48NC0JDA766tjZ4RHROjGddysUb/QiJPdSDvllson+SN2koA6D7xydubKxGR3v8dOUNhxtltfhJ3BJ2+47VWzM1XmJR27jps1zN8ahEXHi7Az2LnpuWp2NtqA2OL32clFFZ4uwo42h5Qjr5mdU6Sds3Ox0y105Oj8M7KzdLrV18xOrPcyE/Jn7AQcVs8Z2RlsXbrtmtnJjPGwTwc7oFtohEB1EYfyAudkZ3CIHEdeMTt7I5SI3hzsSFHSrxvAxzQKmWIUSCQEe1Z21o9203PF7CSBEBAMnety0dmJTsoP8Wg75ljOTJies7Iz+LTHpFfMzovQ5nSYirPY0Xqok50CqxSLLhxdgp3ByWp6rpidN6HMw823ECV9t7PTKOo1zrYIv+/M7CRWp/562VmLlwXkQeizFG9oZswGytqxiTpGVltYnjOzM9jY3m1wvew8CV2RSw+Gzp5+g53BeoxM18tF2LG61e3sUBqxiLHCvbx4uY+Q3KFl+c3a79XKjhRfmCHxE2uiuo0dLDq2vww7NreaPDaxQwjj4+/D/jS/2328DwOuRLWEyx3G3NCaDH4znpPbfiOU8cfZ4WZ3l9/rMEw5M6INjDZ2ZABO0lwWcyndUE82d2JnAouHTuPLsLNODSE2sUMYHZ4WoKjj5etbCvIk6etC4ku7Mltt5G/6OuBw3iYVMmTp7XYBkotH2d2MOoK0UiYt7EhTU5rxjZxW7Pl32BncwKOEyWXYGbwauq2BHUrfzKzhaDuVtXCWwfcfkXZZZH2/VeZIYN6SpSfLnF4cImeCsIWdeIYVW/5Rxj5Ty9HNPluBJ3DbwrJMdCZ2Elyw3elRj5MdwmaOjO6W1A/GUGygVb3pLTrh2f3bqpwuVC+eSCyGrtJhCzsbcV6dW7sDr81Sg2tfOwuQDS8r1edi5z808niqJwYd7NBo7hz5cloNlXxZpFGB4bOzyPlbqTCi1JH+KnBvmq0u7JzE89RGHJ7PEm92YGcEY+Cr4oszsRM/fKOz9JKHgx0SIK1lIH5n1UFLOFd9mhCvuyRVfuOIiyLZEn05Fk6FZzs9zewk0g7WeUtQbaWXoKEDOzItFLBt8cW52Ak5nsjPqumxs0MDZwm+QhU9c6Q036lyVSXoUw3PA/S4FHOFBI3kGIqxEzuZGCVh9TcnUG3mxGu3O5djR1W1M0XPWOMdwl1FRPUq0Qd8oVS6ooNysGKUsFkupspDy0QwPI4u7Nww/TBQGrWuU0bTvnZgCOfVbGFAx7gJRNEU1rUTuju/5N0L55yk8IXiDnLVbV0ozCHh5AtOq1dOsuPT6lUlDJLNXdkB2XDRbJYMpWojRoNaOzuoN6PSzOdjR50ur4prZmFHm1zJ8TAN0++5KrLXYjJFsMZGOKrR/KIEFylRLiXJnfMHLKpsFnLOGOd0jr+eW3RbIzswVUL5Hag2bky+dnbA5wseSk18RnbU1XCDBounf80OCbBkkhNnedRRRPK3isyLxEOlgqvjhvA45FGbnbfI8CDmciEq9bB9KI4jjKAOy6Vl8TSyI5Mi6PKg2swaXDs7YDpJcM5cQckOCVCwF4+xIOH7mp1Kr9bIAlCEUYQVVuGjUuQOIutgDB8bHg5f30fKPL7Di5riBppvMyhtYmcknUR0+US2vpBI90Na2clgALSyqedkJ2A4PNxA67vJjtL1dVQSaIRjnZc/HyFwH8QAWlIVkOFBhMb5cuPglGuOd4SY15trWthZgceGDC5SbXqiupUd5JHWqaCzsqMaalDkJjtYtAt9BwMe15EryRwUTUvlJZ4igSQiashcc6WUPNJCMbR4XszsehM7cqkpviM8oJLJKNDGDnbq6zTqedkhFHvJ7zLRYbCD61NGwY4wUAqTXF8iWU+k6SeP4u4yLIfsOAd7UkxxpOcMdraTdY0X0y1oYGcJ1RxsbmPo6mNL9YwWdo4oNV8rtjOzE9AhMtUjka022MGmZGVOWZxby0WOgxe5+qXgEiKYlqWw4AHIL9I4HB4q0QZE0vGjgDnEBnbkTCdU8U7u5RTRE9WN7CT3uG4iYtkzswPtJAWOzMEOUmyxxRjjhr1CChzWkhy89JmzB5G02YhaDUpQl+qOI2/lqOVsGl9Y38COzCVqGgz626iWw2/o+phsx1i9U7H35tzsEGWd181eBjscHN61LYUSglIoRouuKY2DPOROdh5Lh0l3cTlOqzwFzJwPDrjZ2cASUTtwUG8oVwMyxM5+tARk249ULSxKk3pudgL6iDzJOk9oZHIgfMulb/nbBeiGHExy9hgIaaQvx/ibScUnGmRQLFpm/NRdG6P5NOJmB+avsSN9M0I0zxmpNnWJIPsa4ZdK56Ge+ixcPu7Z2VFdmKy8sb52sCFZkdQERRFEPheRphPrQ8ptwiCyECYMZfDK8em7NuLN08dXUSH//b4C6Zgb7VFItX0pFqlrHzWKS87PjhqIlLV2fe1gAhPre7BhWEW8gjVdHY9KrztXdVLxiTI/+GjrSoq2nN7ydTdMGf+9vgIIHI3WwhhyDopG7bZDJL/nEMR6AXYIw/r2PTLXjq025UJcPKGuqhBfuWmTKTuhSKEl5rN6LiVDi7DOnt+DhsYPJzuye9pSmtiBalNO77R2CPtGC+4C7KiKpKhZ6OwYYX4TCmOC/KIq3JOZu4IQSONVbRNI3wtJMUfnefFAx1n0y5VraSnocL1UMQLHnoxxBaoLO4QpLFyCHc2tDv+MnX0hYNBVSWkspNiWhShkpqYyPEzGolCs5K49T+VFPn6xco0qGeb/WKD4jeN97O3sEDZWi3YXYSd4wDe5YQY7OAXahlKJQKmxio9kErVMvMnrLctFEEkrNQJviA9tPWYCi7G1AdzFjmsrjHE+9pDa2KE82Gr3uQw7SmIwSekfrZ1S/lAXLz3WByHq0omWQigrDCgWxXkIyt0tJgNLI1EpEzs78UM7MZUcUjQlnF5B0ZzKwvDd3LpwGXaCCAfQiwedHVszXqPYkKEv8qLS0lTPR6TiK6hEE/ZNmeMsmDesH3OblJOdY8P+chU4oYvWTvSAwdLv+6eFzW+5EDtBiPPnc5SZKdlB0eFqPG1G7RNLT2aEy7B1SlgG12VKW956om00JowNn53dDJa57WDHknxyACcUUddHV5/1UuwQjjO0aCWVHjVq5HjitBl1CCMjlqKsx4USqGu9UlWOGEEFh4W5HAiLgtttZtvCkXXNUU+6KrZCaYEYPGIndzUdIUbRv4TesGOpqtiA+jZydfUggow6ZS2naO6koZr43HptQnOGvu5ftQT/YDA0xmpn51dexISUeHvHlIGLsYOyRQpKdih8Xphn2oBiqGcuzc5axOUycbeLkIl6d2ogQvIYZ7xTtdzJkLqdHWCRRPa3EqF9UpC08oodLY8hUGVBUXmt44YdSOZkoTQ7Mu6QadMXDqts3fy3aMUaOuBI33yZjJWdpRwrSU9zG57fUMJTzoD2rg8DF2RHjZSlyMqUPuqjPVj3MmpmB9v6hEsjJJMm0s9YM4gApbSdNRzCpugZN93WDlTkjeK0HCTaJyVtjF9rR0sziQcvjsTdf0cbsY/SZRMPgDyJoVh6sbnbLJ5Ruch2lphRHw7O8ps9U1Z2wBE0GjvgES0dL56xo7ZF1VhXvVXwRazvmQqK/vVkUiERXgPqG98JswO1fWhUuIfeuVpE5FH+LeU605UX3uLQjR0wlEqHmArcOyQUvG/s4P0DAnXXB7JJmZHkwn1MUo/AjoOVkBlKBUhl9yLrLULYJIKrob4dk52NsdZs7EB1zanYlHcGSSPpGztB9G641RU7yrCftf+cpSnYamg7gGTOUkQ7KBUgdeVIurAyoscVDd3JxtrXdO4t7ODKtFOxKapNtON5x05g5rZELyhWCnPc8pBbarTiNlJiqAhZBzR4IchyayyjHckdTusl34rpV3apmKk2CzufoNhIQ14Iq7baTfGPHRLpbnXNjuoxZGPGKp+KMrLD9d59BJfSXUAlFWBsc4ZWYWUX52TGpbUiEW6kjs0XzFnYgZ239GD8CEAmUeT9/GMnl4zWiy72IGjbj7J9Wvi76WyumKoFaojg+kt/lR1RxhscUOOucq/46YuKmPEN3+zYJZODNpI0KTYl8VC303nITsC1AQp2zGLyaLnUq8AxzkwaLw1UkpE4d1cCcUe0LdDLl7v9fvuqpoUNh8HKDqSnCW3cTodVW+W6+sgOZCwryN1VDcVkCeWlSETL3KmpAOjcrYGJ5R1KFrYCj8nOoZtiU1Rb3TzoJTtawxfsG+WtmVrNweKqadFyytpmq4kSvLTvTHzqVH1bRx0Vm6LaqsZhL9kJohm+ItpzHba8SeNOu6gmj3s1PNFKeuqr4kjYsklV9+rrR9efEF5lQ5j1RVK2Q2un0U921PcK4PcV8FmD6k4OevihmRbNxdJiQy2NQ8LGqX5jr2MY7EDWO2pWbKpqK+2eX1lQOBA3FCvv+oiIU2arwIjcqZJW1fMu6l7HgZEU4AczcVHjM3V0cejsLNGm6BbFphi+MsHu6drJg390ReVIwmbWP8dYjW1/GqOYFiOyV/xmy+uXo2hv4yf+fDdfXiVO0dg5cZHrprxFseWqDTrEy1rXLBIfWWd2mk9pYofOJolAyz+DsH1cHxgvNaFSNr7PFAW3/PxwbBNgd7G8o9bRUYjyHn6NbUY+Dz5vnzbKCltnpzFztz9p7MSH4azG0HwfgY7lEI4u8hzfgWgTJ10r14fmU5r/u2oMaCmhRQ1H5rFhOttvs8Vikb3M36aB3pMP4sV3bH6e1HoJQhl9/N5tP7PsdfV89/aVssbtIvraiRHaZasdnQA6nFyi5ZRmdhp3JrkOtf/KGGdRxIuN8Q3XIs13bPm5Poay+j+3WOsmhH/4v6t+AHp2fEbPjs/o2fEZPTs+o2fHZ/Ts+IyeHZ/Rs+MzenZ8Rs+Oz+jZ8Rk9Oz6jZ8dn9Oz4jJ4dn9Gz4zN6dnxGz47P6NnxGT07PoO+TayvXvQEi+Yt/1cP8+1rXuFnk9OjR48ePf4WLC9cv278S8MOhj8M46r1f/y3n6MT/gcVX1zzgtCfEgAAAABJRU5ErkJggg==\">"
      ]
    },
    {
      "cell_type": "markdown",
      "metadata": {
        "id": "nRnGkCSRA18X"
      },
      "source": [
        "**TEAM Members:** Please EDIT this cell and add the names of all the team members in your team\n",
        "\n",
        "    Ashleigh Perez\n",
        "    \n",
        "    Srisaranya Pujari\n",
        "    \n",
        "    Diana Binney"
      ]
    },
    {
      "cell_type": "markdown",
      "metadata": {
        "id": "Fxc6cgPOA18Y"
      },
      "source": [
        "**Suggested Readings:**\n",
        "* The NewsAPI documentation: https://newsapi.org/docs\n",
        "* The Python library for NewsAPI: https://newsapi.org/docs/client-libraries/python\n",
        "* The Pyhon notebook I used in class 3\n",
        "  * In fact, it is intentional that many of these questions can be answered directly from there (except for question 4)!\n",
        "* The idea is to ease you into the case studies :-)\n",
        "\n",
        "**Don't forget!**\n",
        "* You will need to install the newsapi-python library to access NewsAPI\n",
        " * pip install newsapi-python\n",
        "* You will need to get an API key from NewsAPI to access the data\n",
        "  * https://newsapi.org/register\n",
        "\n",
        "\n",
        "** NOTE **\n",
        "* **Please don't forget to save the notebook frequently when working in IPython Notebook, otherwise the changes you made can be lost**."
      ]
    },
    {
      "cell_type": "markdown",
      "metadata": {
        "id": "e-uJJaulA18Y"
      },
      "source": [
        "# Problem 1 (20 points): Sampling NewsAPI data a certain topic"
      ]
    },
    {
      "cell_type": "markdown",
      "metadata": {
        "id": "jWqIK-0VA18Y"
      },
      "source": [
        "* Select a topic that you are interested in, for example, \"WPI\" or \"Lady Gaga\"\n",
        "* Use the NewsAPI to sample a collection of news articles about this topic. (It would be recommended that the number of articles should be larger than 200, but smaller than 100,000.\n",
        "* Store the articles you downloaded into file on Google Drive (txt file or json file)"
      ]
    },
    {
      "cell_type": "code",
      "execution_count": null,
      "metadata": {
        "colab": {
          "base_uri": "https://localhost:8080/"
        },
        "id": "UHlfqylGDAEo",
        "outputId": "83a6304b-5563-46d2-bc07-aee6142c3c13"
      },
      "outputs": [],
      "source": [
        "! pip install newsapi-python"
      ]
    },
    {
      "cell_type": "code",
      "execution_count": 2,
      "metadata": {
        "colab": {
          "base_uri": "https://localhost:8080/"
        },
        "id": "3DcAmeG9A18Z",
        "outputId": "4050a520-e4f7-4fba-8edb-4583ca5c4706"
      },
      "outputs": [],
      "source": [
        "from newsapi import NewsApiClient\n",
        "import json\n",
        "\n",
        "# See https://newsapi.org/docs for more information\n",
        "# on NewsAPI implementation.\n",
        "\n",
        "API_KEY = '33a842ee09bc496cbe65f5b3ae90c200'\n",
        "\n",
        "newsapi = NewsApiClient(api_key=API_KEY)\n",
        "# print(newsapi)"
      ]
    },
    {
      "cell_type": "markdown",
      "metadata": {
        "id": "BgU_ryKOA18d"
      },
      "source": [
        "### Report some statistics about the news articles you collected\n",
        "\n",
        "* The topic of interest: space\n",
        "\n",
        "\n",
        "* The total number of news articles collected:  20"
      ]
    },
    {
      "cell_type": "code",
      "execution_count": 89,
      "metadata": {
        "id": "SdlB7r0YdPdu"
      },
      "outputs": [],
      "source": [
        "# Search for top headlines in Space Exploration\n",
        "headlines = newsapi.get_everything(q='space',\n",
        "                                       #sources='bbc-news,the-verge',\n",
        "                                       #domains='bbc.co.uk,techcrunch.com',\n",
        "                                       from_param='2023-10-31',\n",
        "                                       to='2023-11-10',\n",
        "                                       language='en',\n",
        "                                       sort_by='relevancy',\n",
        "                                       #page=2\n",
        "                                       )"
      ]
    },
    {
      "cell_type": "markdown",
      "metadata": {
        "id": "BUNy7CEJA18d"
      },
      "source": [
        "*-----------------------"
      ]
    },
    {
      "cell_type": "code",
      "execution_count": 95,
      "metadata": {},
      "outputs": [
        {
          "name": "stdout",
          "output_type": "stream",
          "text": [
            "100 total articles\n",
            "\n",
            "author: Ramin Skibba\n",
            "title: The Euclid Space Telescope’s Spectacular First Photos of Distant and Hidden Galaxies\n",
            "description: Images from the European Space Agency’s newest telescope show the power of instruments that will create 3D surveys of a third of the sky, covering 10 billion years of cosmic history.\n",
            "\n",
            "author: Passant Rabie\n",
            "title: Astronaut Tool Bag Becomes Unexpected Satellite After ISS Spacewalk Slip-Up\n",
            "description: In space, misplacing a bag of tools is hard to recover from. A tiny mishap during a recent spacewalk outside the International Space Station (ISS) has led to a new object in the night sky, with a tool bag now orbiting Earth ahead of the space station, tempora…\n",
            "\n",
            "author: Ramin Skibba\n",
            "title: How a Scientist and Cartoonist Envision Living on the Moon and Mars\n",
            "description: In A City on Mars, Kelly and Zach Weinersmith imagine what it would really be like to live in space: thrilling and absolutely grueling.\n",
            "\n",
            "author: Isaac Schultz\n",
            "title: Skeletal Hand-Like Structure Found Lurking in Deep Space\n",
            "description: Captured through the powerful lens of X-ray telescopes, the ethereal expanse of a pulsar wind nebula is revealed in unprecedented detail.\n",
            "\n",
            "author: Becca Lewis\n",
            "title: How to Add a Light Switch to Any Existing Outlet\n",
            "description: If you have a room with no overhead light fixture, or one in which the main light switch isn’t convenient, you can solve your problem by adding a switch to one of your power outlets to control a lamp instead. Whether it’s in an entryway, bedroom, or some othe…\n",
            "\n",
            "author: Becca Lewis\n",
            "title: These DIY Room Dividers Can Help Break Up Your Open Floor Plan\n",
            "description: If your open floor plan is a little too open, or if you want to carve out some defined space for focused use, room dividers can come in handy. Since most types of room dividers are much simpler and less expensive than a renovation, they’re a good solution for…\n",
            "\n",
            "author: Passant Rabie\n",
            "title: Curing the Space Blues: Vive VR Headset for Astronauts' Mental Health Heads to ISS\n",
            "description: Nearing the end of an unintended year in space, NASA astronaut Frank Rubio reflected on Earthly pleasures that he was eager to indulge in as soon as he returned home. “I think just going out in the yard and enjoying the trees and the silence,” Rubio said duri…\n",
            "\n",
            "author: Passant Rabie\n",
            "title: Seeing Double: Lucy’s First Target Asteroid Has a Tiny Moon\n",
            "description: As NASA’s Lucy spacecraft zoomed past its first asteroid on Wednesday, its mission scientists made a surprising discovery of a bonus space rock.Read more...\n",
            "\n",
            "author: Passant Rabie\n",
            "title: How to Watch NASA’s Rare All-Woman Spacewalk Live\n",
            "description: Two NASA astronauts are gearing up for their first spacewalk outside the International Space Station (ISS) for maintenance work in low Earth orbit, marking just the second time two women will exit the station together.Read more...\n",
            "\n",
            "author: Stephen Johnson\n",
            "title: What People Are Getting Wrong This Week: The 'Dead Internet Theory' Isn't Real, I Swear\n",
            "description: Is the internet dead? Proponents of the Dead Internet Theory believe that the internet, as we understand it, doesn’t exist. It died around 2016, and since then, everything we see online, from Instagram pictures to this post on Lifehacker, has been generated b…\n",
            "\n",
            "author: Jeff Somers\n",
            "title: How to Sleep on a Couch Without Hurting Yourself\n",
            "description: Much is uncertain in this life, but one thing is for sure: At some point in your future, you will be forced to sleep on a couch. No matter how old and successful you become, the possibility that you will be required to sleep on a couch like a college kid with…\n",
            "\n",
            "author: Kyle Barr\n",
            "title: The MacBook Pro is Back in Black, Now Powered with M3\n",
            "description: It’s Halloween eve, and Apple brought along a few new desktop products to bask in the dark joys of spooky season, most notably a new Space Black color for the company’s leading laptops. Gizmodo had the opportunity to trick or treat through the new M3-powered …\n",
            "\n",
            "author: Justin Carter\n",
            "title: Echo Will Begin Marvel's Spotlight Era\n",
            "description: Just a few days ago, Marvel Studios revealed the first footage its upcoming series Echo. Previously meant for 2023 before getting knocked to 2024 in order to space things out, the Hawkeye spinoff sees Maya Lopez (Alaqua Cox) return home after having just viol…\n",
            "\n",
            "author: Justin Carter\n",
            "title: Director Makoto Shinkai to Get Academy Museum Installment\n",
            "description: Since 1998, Makoto Shinkai has grown to become one of Japan’s most celebrated creators in the animation space thanks to works like Weathering With You, Your Name, and 2022's Suzume (which released earlier this year for international audiences). After last wee…\n",
            "\n",
            "author: Sam Rutherford\n",
            "title: Apple updates its 14-inch and 16-inch MacBook Pros with new M3 chips\n",
            "description: On Monday at its “Scary Fast” event, Apple announced an updated line of 14- and 16-inch MacBook Pros featuring a range of new M3 chips and Space Black chassis.\n",
            "Compared to a similarly specced M2 model, a base M3 14-inch MacBook Pro will now start at $1,599 ($…\n",
            "\n",
            "author: Jessica Kanzler\n",
            "title: This Portable Bluetooth Wireless Neckband Speaker Is $37.99\n",
            "description: These portable Bluetooth wireless neckband speakers give you more freedom to move about while you listen to music or podcasts—and right now, they’re sale for $37.99 (regularly $39); no coupon code is required.Read more...\n",
            "\n",
            "author: Passant Rabie\n",
            "title: NASA Apologizes for Not Supporting Your Delulu Plans to Visit Jupiter\n",
            "description: NASA issued an apology for a slightly shady post on X that questioned people’s ability to visit Jupiter.Read more...\n",
            "\n",
            "author: Ruben Bolling\n",
            "title: Space Mountain, with the lights on\n",
            "description: Former Disney Imagineer Eddie Sotto posted this video of Disneyland (Anaheim)'s Space Mountain in 1998, with the lights on. The ride normally operates in darkness, so it's interesting to get a glimpse of what the track and interior actually look like. — Read …\n",
            "\n",
            "author: Stephen Clark\n",
            "title: After leading NASA’s mission to Pluto, Alan Stern flies to space himself\n",
            "description: Virgin Galactic is finally settling into a routine after years of delays.\n",
            "\n",
            "author: Stephen Clark\n",
            "title: Scientists show off the wide vision of Europe’s Euclid space telescope\n",
            "description: The $1.5 billion Euclid telescope will use light to study the dark Universe.\n",
            "\n",
            "author: Lindsey Ellefson\n",
            "title: You Should Make a 'To-Don't List'\n",
            "description: You’ve heard of a to-do list, but what you might really need is a to-don’t list. Instead of focusing on all the tasks you have to get done, it could be beneficial for you to look at everything you don’t need to or even shouldn’t do. It sounds like a waste of …\n",
            "\n",
            "author: Igor Bonifacic\n",
            "title: The best gifts for gamers in 2023\n",
            "description: Let’s face it, buying a gift for someone who loves gaming is tough, especially this year. The past 12 months were jam-packed with some of the best releases in recent memory. While we at Engadget cover games extensively, our staff is full of people who genuine…\n",
            "\n",
            "author: Joe Rossignol\n",
            "title: Apple's USB-C to MagSafe 3 Cable Now Available to Order in Space Black\n",
            "description: The new 14-inch and 16-inch MacBook Pro models announced today are available in a new Space Black finish when configured with M3 Pro or M3 Max chips. Accordingly, Apple has released its USB-C to MagSafe 3 cable in Space Black for $49.\n",
            "\n",
            "\n",
            "\n",
            "\n",
            "\n",
            "Apple already inclu…\n",
            "\n",
            "author: michael.hicks@futurenet.com (Michael L Hicks)\n",
            "title: Uninstalling Android apps on other devices is about to become a lot easier\n",
            "description: Need to clear out some storage space or remove an app from your phone, tablet, watch, and Chromebook at once? It's about to become a lot easier.\n",
            "\n",
            "author: Grace Eliza Goodwin\n",
            "title: NASA's James Webb and X-ray telescopes found a primordial black hole growing in the early universe just after the Big Bang\n",
            "description: NASA's James Webb Space Telescope found the most distant black hole ever growing near the dawn of time.\n",
            "\n",
            "author: Jordan Hart\n",
            "title: Kendrick Lamar's company just dropped a limited-edition 'dumb' phone. It's already sold out.\n",
            "description: Kendrick Lamar is entering the tech space with a collaboration on the Light Phone 2 that's designed to be simplistic.\n",
            "\n",
            "author: Matt Simon\n",
            "title: The Ultra-Efficient Farm of the Future Is in the Sky\n",
            "description: Take a tour of a rooftop laboratory where scientists show how growing crops under solar panels can produce both food and clean energy.\n",
            "\n",
            "author: Donald Papp\n",
            "title: What The Artisan 3-in-1 CNC Offers (If One Has The Table Space)\n",
            "description: I never feel like I have enough space in my workshop. The promise of consolidating tools to make the most of limited space drew me to the Snapmaker Artisan, a plus-sized 3-in-1 tool combining 3D pr…\n",
            "\n",
            "author: Wes Davis\n",
            "title: The copyright fight over Fortnite dance moves is back on\n",
            "description: An appeals court reversed the dismissal of a copyright lawsuit filed against Epic Games by choreographer Kyle Hanagami, which accused the Fortnite maker of copying his dance moves for an in-game emote.\n",
            "\n",
            "author: Eliza Relman\n",
            "title: Urban golf courses are making housing more expensive and parks harder to access — and taxpayers are footing the bill\n",
            "description: Golf is played by just a fraction of city residents, but urban courses take up a ton of valuable space and non-golfers foot the bill.\n",
            "\n",
            "author: Dan DeFrancesco\n",
            "title: Sam Bankman-Fried was just convicted. Where does crypto go from here?\n",
            "description: Sam Bankman-Fried's conviction closes a dark chapter for the crypto industry. But the future of the space still seems murky.\n",
            "\n",
            "author: Kevin Webb\n",
            "title: The best SSD for PS5 in 2023: Top M.2 solid state drives\n",
            "description: The best solid state drives for PS5 allow you to expand your console's storage space so you can play more games and enjoy super-fast loading times.\n",
            "\n",
            "author: Maiya Focht\n",
            "title: First photos from the Euclid space telescope show thousands of distant, hidden, and irregular galaxies that could help solve 2 of astronomy's grandest mysteries\n",
            "description: The Euclid space telescope's first photos were revealed today. The images show the Horsehead Nebula and Perseus cluster in a huge, unseen scope.\n",
            "\n",
            "author: Khamosh Pathak\n",
            "title: How to Clear the Cache on Your iPhone\n",
            "description: Your iPhone does a pretty good job of managing memory and RAM on its own. It’s so good, in fact, that you don’t need to quit running apps (unless the act of flipping apps is your way of relaxing). But there’s one place where unnecessary junk and cache does bu…\n",
            "\n",
            "author: Kelly Beall\n",
            "title: Meet the Much Anticipated Bird Sofa Collection\n",
            "description: EQ3's Bird Sofa Collection embodies a comfort-driven timeless aesthetic that will effortlessly complement other furniture and transition throughout the years as your space evolves.\n",
            "\n",
            "author: Mat Smith\n",
            "title: The Morning After: The final Beatles song was made with a little help from AI\n",
            "description: The Beatles have released another song, the first since 1995. “Now and Then” is being advertised as the final Beatles track, given that two of the members have passed and the other two are well over 80 years old. But then again, millionaires do love money.\n",
            "Th…\n",
            "\n",
            "author: Russell Lewis\n",
            "title: Astronaut Ken Mattingly, who flew to the moon on Apollo 16, has died at 87\n",
            "description: He piloted Apollo 16 and commanded the shuttle. But he may be best known for the mission he didn't fly: the ill-fated Apollo 13. And he worried late in life about the high cost of human space flight.\n",
            "\n",
            "author: Dean Takahashi\n",
            "title: XR Health’s VR headset for mental health will treat astronauts on space station\n",
            "description: XRHealth, a healthcare spatial computing platform, will send a VR headset and mental health apps into space to treat astronauts at the ISS.\n",
            "\n",
            "author: Grant St. Clair\n",
            "title: Call of Duty: Modern Warfare 3 to take up staggering 213 gigabytes of storage space\n",
            "description: It seems that Microsoft's recent acquisition of Call of Duty developer Activision-Blizzard hasn't done much to curb their data-hoarding practices. Call of Duty: Modern Warfare 3, which enters Early Access today, weighs in at a staggering 213 gigabytes of SSD-…\n",
            "\n",
            "author: Mariella Moon\n",
            "title: Sony ANC headphones are up to 53 percent off at Amazon\n",
            "description: A bunch of Sony headphones, earbuds and other audio devices are on sale at Amazon, including the Sony WH-CH720N headset, which is currently selling for the lowest price we've seen for it on the website. You can get the noise canceling wireless headphones for …\n",
            "\n",
            "author: Thomas Macaulay\n",
            "title: ‘Dark universe’ space mission reveals its first colour images of the cosmos\n",
            "description: A spacecraft that’s exploring the dark universe has released its first full-colour images of the cosmos. Named Euclid after the ancient Greek “father of geometry,” the satellite was developed by the European Space Agency (ESA). Its mission: produce the world’…\n",
            "\n",
            "author: Jenny List\n",
            "title: Need A Low-Mass Antenna In Space? Just Blow It Up!\n",
            "description: A parabolic antenna is a simple enough device, a curved reflector designed to focus all the radiation from the direction it’s pointed into a waveguide or antenna at its feedpoint. …read more\n",
            "\n",
            "author: None\n",
            "title: Fire tornado sweeps through Australian outback\n",
            "description: There was 'absolutely nothing we could do but sit back and watch', the company who shared the video said.\n",
            "\n",
            "author: Passant Rabie\n",
            "title: New Wearable Helps Astronauts Know Up From Down—Trusting It Is the Hard Part\n",
            "description: A one way trip to the Red Planet would take up to nine months. During that time, astronauts on board the Mars-bound spacecraft could lose their sense of direction and ability to know up from down, making it difficult to orient themselves on the Martian surfac…\n",
            "\n",
            "author: James Whitbrook\n",
            "title: The Marvels' First Clip Is a Body Swapping Brawl\n",
            "description: It’s hard to imagine that the next Marvel movie is out in just a few weeks, but here we are—The Marvels is set to fly into cinemas November 10 and we’re only just getting our first extended look at the film. At least it’s a pretty fun one?Read more...\n",
            "\n",
            "author: Tom Warren\n",
            "title: Microsoft’s Windows 11 2023 Update arrives with Microsoft Teams changes\n",
            "description: Microsoft is finally releasing its big Windows 11 2023 Update, but most of the new changes already appeared last month. The update includes changes to Microsoft Teams.\n",
            "\n",
            "author: Allie Chanthorn Reinmann\n",
            "title: Evil Week: Keep Your Snacks Out of Your Family's Filthy Paws\n",
            "description: Welcome to Evil Week, our annual dive into all the slightly sketchy hacks we’d usually refrain from recommending. Want to weasel your way into free drinks, play elaborate mind games, or, er, launder some money? We’ve got all the info you need to be successful…\n",
            "\n",
            "author: Lindsey Ellefson\n",
            "title: Use the 'Zen to Done' Method to Create New Productivity Habits\n",
            "description: Productivity is an essential skill for getting this done in your life and career, but it’s also important because it can gives you a sense of accomplishment and enhances your sense of wellbeing. When you don’t get all your tasks done, it’s easy to feel overwh…\n",
            "\n",
            "author: Daniel Oropeza\n",
            "title: These Are the Best Soundbar Deals During Walmart’s Black Friday Sale\n",
            "description: Walmart’s early Black Friday deals are now live. They are the third major retailer after Target and Best Buy to kick off their Black Friday deals. Early Black Friday deals are actually good this year, and you should be checking them out if you haven’t already…\n",
            "\n",
            "author: Kris Holt\n",
            "title: Apple's 'Scary Fast' Mac event: Everything announced about M3 MacBook Pro and M3 iMac\n",
            "description: It’s perhaps The Addams Family’s favorite time of year, but Apple’s pre-Halloween “Scary Fast” event was neither mysterious nor spooky. Thanks to M3 chip leaks and rumors, all of the company’s announcements were largely expected. And though the showcase inexp…\n",
            "\n",
            "author: Grace Kay\n",
            "title: See inside the prototype for a new $24,000 Tesla Cybertruck camper attachment\n",
            "description: The Tesla Cybertruck is only weeks away from its delivery event and some companies have already begun building accessories for the EV-pickup truck.\n",
            "\n",
            "author: Donald Papp\n",
            "title: Most AI Content Is Trash, Just Like Everything Else\n",
            "description: [Max Woolf] has been working in the AI space since 2015, and among other work has created numerous useful open-source tools. He also recently wrote a thoughtful blog post that attempts to put into …\n",
            "\n",
            "author: Kristina Panos\n",
            "title: We Like Big Keyboards and We Cannot Lie\n",
            "description: So, let’s say you’re good at DOTA. Like, world-class good. How good do you think you’d be on a keyboard that’s 16 feet long, with a space bar the size of a person? Well, you…\n",
            "\n",
            "author: Jenny List\n",
            "title: Making a Solder Paste Stencil From What You Have On Hand\n",
            "description: Sometimes there are moments when an engineer has to use whatever materials they have to hand in order to complete the job on time. Such a situation arose at the RevSpace hacker space in Den Haag, N…\n",
            "\n",
            "author: Mat Smith\n",
            "title: The Morning After: Apple’s new MacBook lineup makes much more sense\n",
            "description: Apple’s MacBook problem was a confusing lineup of similar machines with different names, different chips, different hardware and the rest. But it may have finally solved the problem. The long-rumored 15-inch MacBook Air arrived months ago, and then Apple surp…\n",
            "\n",
            "author: Georgina Torbet\n",
            "title: See the stunning first images taken by the dark matter-hunting Euclid telescope\n",
            "description: The European Space Agency has released the first five full-color images taken by Euclid, a space telescope launched earlier this year to probe dark matter.\n",
            "\n",
            "author: https://www.facebook.com/bbcnews\n",
            "title: Horror games: Is the genre in a golden age?\n",
            "description: How do the people behind some of our favourite frightfests come up with ways to keep players scared?\n",
            "\n",
            "author: Uncrate\n",
            "title: Kworks Mio Space Camper\n",
            "description: No matter how overbuilt, the odds that any camper is touching any surface more off-road than the gravel of a campsite access road is practically nil. Kworks rather Zen approach to design resulted in the Mio Space, a clean, uncluttered...\n",
            "\n",
            "author: Bryan Metzger\n",
            "title: John Fetterman predicts Joe Manchin is 'not going to be around much longer' in the Senate: 'I'm going to get his parking space'\n",
            "description: The Pennsylvania senator's missive against his party's most vulnerable 2024 incumbent came after Manchin led a resolution to reinstate the dress code.\n",
            "\n",
            "author: Sonam Sheth\n",
            "title: NASA sent a spaceship rocketing by an asteroid — and discovered the space rock has a little baby one dancing around it\n",
            "description: NASA's Lucy spacecraft discovered that the asteroid Dinkinesh is actually a binary asteroid system.\n",
            "\n",
            "author: Trevor Mogg\n",
            "title: Spot the space station with this new NASA app\n",
            "description: A new app released for iOS and Android makes it easier than ever to spot the International Space Station when it passes overhead.\n",
            "\n",
            "author: Maria Popova\n",
            "title: The Warped Side of Our Universe: A Painted Epic Poem about the Dazzling Science of Spacetime\n",
            "description: The first English use of the word space to connote the cosmic expanse appears in line 650 of Book I of Milton’s epic poem Paradise Lost: “Space may produce new Worlds,” he wrote, and grow rife with them. In the centuries since Milton, who lived through the go…\n",
            "\n",
            "author: Megan Wollerton\n",
            "title: Peloton Row Review: A Nearly Perfect Rowing Machine With a Too-High Price\n",
            "description: I’m almost annoyed by how much I like this premium hunk of metal.\n",
            "\n",
            "author: Alex Miller\n",
            "title: Tech and Games Can Help Curb Youth Suicide\n",
            "description: In the face of lackluster mental health support, especially for children of marginalized groups, technology and video games can be used to meet young people where they are.\n",
            "\n",
            "author: Matt Jancer\n",
            "title: REI Co-op 650 Down Jacket Review: Best Value\n",
            "description: Big, puffy jackets tend to have big, puffy prices. The 650 Down Jacket from REI improves on its predecessor for a little extra coin.\n",
            "\n",
            "author: Jennifer Pattison Tuohy\n",
            "title: TP-Link’s teeny-tiny security camera offers a lot for very little\n",
            "description: The Tapo C120 is a capable $40 2K indoor / outdoor wired camera with local storage, built-in spotlights, and free pet, person, and vehicle detection.\n",
            "\n",
            "author: Rob Beschizza\n",
            "title: Apple's new MacBook comes in black\n",
            "description: As handsome as Apple's inky blue \"Midnight\" color option is, it's not a true black—not like the new M3 MacBook Pro announce last night. The pricey, powerful machine comes in \"Space Black,\" representing the line's darkest turn in 15 years. — Read the rest\n",
            "\n",
            "author: Derek Wise\n",
            "title: NASA launches new app to see the International Space Station\n",
            "description: On Thursday, NASA launched a new app to make it easier than ever to spot the International Space Station in the night sky. NASA has long operated the Spot the Station website, but their new app, available on both iPhone and Android, brings augmented reality f…\n",
            "\n",
            "author: Devindra Hardawar\n",
            "title: MacBook Pro 14-inch and 16-inch review: An M3 chip for every situation\n",
            "description: Apple's confusing laptop family finally makes sense this year. The long-rumored 15-inch MacBook Air arrived months ago, and the company surprised us by delivering two MacBook Pro revisions in less than 12 months. While I appreciated the speed bump that the M2…\n",
            "\n",
            "author: Linda Codega\n",
            "title: The Gaming Shelf Haunts The Woods at Blight's Hollow\n",
            "description: Believe it or not, after two decades, Brandon Sanderson’s Stormlight Archive is getting a TTRPG. This isn’t breaking news—it was announced well before Gen Con this year—but the reveal of its three team writers and designers is. Additionally, MCDM has announce…\n",
            "\n",
            "author: Polygon Staff\n",
            "title: The best movies on Max right now\n",
            "description: The best movies you can watch at home on Max right now, from Dune and The Batman to 2001: A Space Odyssey, Lord of the Rings, and The Matrix.\n",
            "\n",
            "author: Adam Rogers\n",
            "title: Don’t blame the pandemic for all the empty storefronts on your street. Blame big banks.\n",
            "description: Landlords could help reverse the Retail Apocalypse by lowering rents and extending leases — but their lenders won't let them.\n",
            "\n",
            "author: Meghan Bartels\n",
            "title: NASA's Lucy Asteroid Mission Zips Past a 'Dinky' Space Rock\n",
            "description: NASA&rsquo;s Lucy mission is starting its science studies way ahead of schedule\n",
            "\n",
            "author: BeauHD\n",
            "title: NASA Open To Extending ISS Beyond 2030\n",
            "description: Jeff Foust reports via SpaceNews: A NASA official opened the door to keeping the International Space Station in operation beyond 2030 if commercial space stations are not yet ready to take over by the end of the decade. Speaking at the Beyond Earth Symposium …\n",
            "\n",
            "author: David Pescovitz\n",
            "title: Astronaut on space station captures astonishing image of massive skull peering up from volcanic pit on Earth\n",
            "description: An astronaut aboard the International Space Station snapped this astonishing photo in February of a massive skull peering up from a volcanic pit on Earth. The skull is located 1,000 meters down in Trou au Natron, a volcanic pit and soda lake in northern Chad.…\n",
            "\n",
            "author: Vy Yang\n",
            "title: The Heart of This Warehouse Office Is Community\n",
            "description: This Tustin, California office features an interior biophilic courtyard meant for collaboration and easy circulation to the department \"neighborhoods.\"\n",
            "\n",
            "author: Joe Rossignol\n",
            "title: New MacBook Pro Reviews: Scary Fast, But M3 Pro Chip Has a Catch\n",
            "description: Last week, Apple updated the 14-inch and 16-inch MacBook Pro models with M3 Pro and M3 Max chips for faster performance. There is also an entry-level 14-inch MacBook Pro with the standard M3 chip. Other new features include a Space Black finish for M3 Pro and…\n",
            "\n",
            "author: Quinn Fish\n",
            "title: This Storage Hack \"Conquered\" My Bag Clutter (Without Taking Up Any Space)\n",
            "description: Plus, it’s great for storing other accessories, too.\n",
            "READ MORE...\n",
            "\n",
            "author: Julia Gómez Kramer\n",
            "title: These 8 Furniture Essentials Will Upgrade Any Space\n",
            "description: We’ve teamed up with our friends at Wayfair to share some of our favorite ways to upgrade your space. Psst! All of these products also happen to be on sale—along with others across the site that are discounted up to 70 percent off—as part of Wayfair's Cyber M…\n",
            "\n",
            "author: Mitchel Broussard\n",
            "title: Touch Bar Fans: Get the 13-Inch M2 MacBook Pro for $250 Off Before It's Gone\n",
            "description: The 13-inch M2 MacBook Pro has been discontinued in the wake of the announcement of the new 14-inch and 16-inch MacBook Pro. Because of this, we're tracking a few last-chance deals on the previous generation computer that should be enticing for anyone who wan…\n",
            "\n",
            "author: Trevor Mogg\n",
            "title: Watch NASA’s trailer teasing next week’s launch of streaming service\n",
            "description: NASA has shared a trailer highlighting next week’s launch of NASA+, a free video streaming service aimed at space fans.\n",
            "\n",
            "author: Claire Jackson\n",
            "title: Modern Warfare III and Starfield Highlight An Obnoxious Trend\n",
            "description: Every week I play a very specific game. No, it’s not Halo (though I do occasionally play that), but the game where I desperately try to manage the storage space on my PC because of video games. Oh and if I go to my PS5, trying to curate a decent list of insta…\n",
            "\n",
            "author: Radek Zielinski\n",
            "title: Google backs out of $15B bay area campus deals\n",
            "description: Google has terminated its contracts with Australian developer Lendlease for four major Bay Area development projects. According to a Nov. […]\n",
            "The post Google backs out of $15B bay area campus deals appeared first on ReadWrite.\n",
            "\n",
            "author: None\n",
            "title: NASA’s Former Head of Science on What It Takes to Manage Complex, High-Risk Projects\n",
            "description: How to lead extremely technical, complex, and expensive projects with a high risk of failure.\n",
            "\n",
            "author: Max McHone\n",
            "title: Save 20% Sitewide on CamelBak Packs, Water Bottles and Much More - CNET\n",
            "description: Snag gear for your next adventure or a great gift for the outdoorsy folks in your life with these sitewide savings.\n",
            "\n",
            "author: Sophia Carlisle\n",
            "title: The best early Black Friday kitchen appliance deals: Save up to 25% on LG and Whirlpool refrigerators\n",
            "description: We're seeing great early Black Friday deals on big items like cooktops, refrigerators, and dishwashers. Here are the best kitchen appliance deals.\n",
            "\n",
            "author: Sam Rutherford\n",
            "title: HP Spectre Fold review: Cutting edge at all costs\n",
            "description: It’s rare, but now and then a company will go out on a limb and create a truly cutting-edge device, even if its books take a hit. That’s exactly what HP has done with the Spectre Fold. Despite having the same processor as last year’s ASUS Zenbook 17 OLED, HP’…\n",
            "\n",
            "author: Rob Beschizza\n",
            "title: WeWork was once \"valued\" at $47 billion. Now it's bankrupt\n",
            "description: WeWork, described as an \"office-sharing company\", filed for Chapter 11 bankruptcy protection on Monday. Once \"valued\" at $47bn, the company leased office space hoping to lease it to others for more money than it was paying. It tried and failed to go public, t…\n",
            "\n",
            "author: Chris Dong\n",
            "title: Capital One just opened a new airport lounge in Denver, and some credit cardholders can bring guests for free\n",
            "description: Capital One's latest airport lounge is in Concourse A of the Denver International Airport, and anyone can purchase a day pass for entry.\n",
            "\n",
            "author: Luke Larsen\n",
            "title: I saw the new Space Black MacBook Pro, and it’s stunning\n",
            "description: Apple has announced a new color option for the MacBook Pro, and after seeing it in person, I'm smitten.\n",
            "\n",
            "author: Tim Hardwick\n",
            "title: M3 iMac and MacBook Pro Models Now Available for Same-Day Pickup\n",
            "description: Starting today, Apple's refreshed M3 iMac and MacBook Pro models with M3 and M3 Pro chips are available for same-day or next-day pickup at Apple Stores, with no pre-order required. Online orders are also beginning to arrive to customers today. \n",
            "\n",
            "\n",
            "\n",
            "\n",
            "\n",
            "Customers…\n",
            "\n",
            "author: Chance Miller\n",
            "title: Does Apple’s ‘anodization seal’ on the space black MacBook Pro actually reduce fingerprints?\n",
            "description: While the new MacBook Pro in space black is getting a lot of attention, Apple actually started its march toward darker-shaded laptops . One key difference, however, is that Apple claims the space black color on the MacBook Pro solves the fingerprint and durab…\n",
            "\n",
            "author: Evan Orensten\n",
            "title: The Cowie Collection Glass\n",
            "description: This chic spirit sipping glass was designed to showcase the spirit’s color, provide space for aromas, and to create a bit of “audacious” drama. Commissioned by Mortlach whisky and designed by Felicia …\n",
            "\n",
            "author: Daniela de Paulis\n",
            "title: Show HN: A Sign In Space – simulating a message from ET\n",
            "description: A Sign in Space is an interdisciplinary project by media artist Daniela de Paulis, in collaboration with the SETI Institute, the European Space Agency, the Green Bank Observatory and INAF, the Italian National Institute for Astrophysics.The project consists i…\n",
            "\n",
            "author: Matt Burgess\n",
            "title: This Cheap Hacking Device Can Crash Your iPhone With Pop-Ups\n",
            "description: Plus: SolarWinds is charged with fraud, New Orleans police face recognition has flaws, and new details about Okta’s October data breach emerge.\n",
            "\n",
            "author: Georgina Torbet\n",
            "title: How to watch SpaceX deliver cargo and experiments to the ISS this week\n",
            "description: This week will see a SpaceX Dragon spacecraft blast off from NASA's Kennedy Space Center and head for the ISS to deliver supplies and research.\n",
            "\n",
            "author: Adam Frank\n",
            "title: In 'White Holes,' Carlo Rovelli takes readers beyond the black hole horizon\n",
            "description: Physicist Carlo Rovelli is unique among modern scientists who write for popular audiences in his ability to capture the purest essence of his science with both precision and lyricism.\n",
            "\n",
            "author: Trevor Mogg\n",
            "title: NASA releases ‘ghostly cosmic hand’ image for Halloween\n",
            "description: To help you get in the mood for Halloween, NASA has released a spooky image from deep space showing what it describes as a ghostly cosmic hand.\n",
            "\n",
            "author: Hannah Getahun\n",
            "title: SpaceX finally says it's ready to launch Starship, again. The world's most powerful rocket could reach space for the first time in mid-November — if the FAA says yes.\n",
            "description: SpaceX is gunning for a mid-November launch date of it's massive Starship rocket\n",
            "\n",
            "author: elizabeth.howell@futurenet.com (Elizabeth Howell)\n",
            "title: Happy birthday Andreas Mogensen! International Space Station astronaut celebrates in space\n",
            "description: Danish astronaut Andreas Mogensen marked his birthday on the International Space Station Nov. 2 by flying his country's flag and enjoying sunny weather.\n",
            "\n"
          ]
        }
      ],
      "source": [
        "# save search (LOCALLY)\n",
        "import json\n",
        "data = json.dumps(headlines, indent=1)\n",
        "\n",
        "file = open('spaceSearch.json','w')\n",
        "file.write(data)\n",
        "file.close()\n",
        "file = open('spaceSearch.json','r') # overwriting closed write-only file as read-only\n",
        "\n",
        "# saving json to 'd' and printing to ensure articles where saved correctly\n",
        "d = json.loads(file.read())\n",
        "print(len(d['articles']), \"total articles\")\n",
        "print() #print statement added for readability/spacing\n",
        "\n",
        "#printing out article auth, title, and desc\n",
        "for article in d['articles']:\n",
        "  print(f\"author: {article['author']}\")\n",
        "  print(f\"title: {article['title']}\")\n",
        "  print(f\"description: {article['description']}\")\n",
        "  print()"
      ]
    },
    {
      "cell_type": "code",
      "execution_count": null,
      "metadata": {},
      "outputs": [],
      "source": [
        "#save search (COLAB) /// NOT TESTED\n",
        "data= json.dumps(headlines, indent=1)\n",
        "file = open('gdrive/MyDrive/ds3010_2023/foo.txt','w')\n",
        "file.write(data)\n",
        "file.close()\n",
        "file = open('spaceSearch.txt','r') # overwriting closed write-only file as read-only\n",
        "\n",
        "# saving json to 'd' and printing to ensure articles where saved correctly\n",
        "d = json.loads(file.read())\n",
        "print(len(d['articles']), \"total articles\")\n",
        "print() #print statement added for readability/spacing\n",
        "\n",
        "# printing the rest\n",
        "for article in d['articles']:\n",
        "  print(f\"author: {article['author']}\")\n",
        "  print(f\"title: {article['title']}\")\n",
        "  print(f\"description: {article['description']}\")"
      ]
    },
    {
      "cell_type": "markdown",
      "metadata": {
        "id": "xf-F4wHqaC3f"
      },
      "source": []
    },
    {
      "cell_type": "markdown",
      "metadata": {
        "id": "xHvwKm5sA18e"
      },
      "source": [
        "# Problem 2 (20 points): Analyzing News Articles with Frequency Analysis\n",
        "\n",
        "**1. Word Count:**\n",
        "* Use the news articles you collected in Problem 1, and compute the frequencies of the words being used in these articles.\n",
        "* Note, you can use various parts of the articles (e.g. the tite, the description, the content) to compute the word frequencies.\n",
        "  * Which is most useful?\n",
        "* Plot a table of the top 30 words with their counts"
      ]
    },
    {
      "cell_type": "markdown",
      "metadata": {
        "id": "rs3TO8o2bbFV"
      },
      "source": []
    },
    {
      "cell_type": "code",
      "execution_count": 97,
      "metadata": {
        "colab": {
          "base_uri": "https://localhost:8080/"
        },
        "id": "AWCOwS4MaKBu",
        "outputId": "1e89e7dd-d577-49e8-ef64-538ebdf487da"
      },
      "outputs": [
        {
          "name": "stdout",
          "output_type": "stream",
          "text": [
            "+-------------+------------------+\n",
            "| Course Name |    Department    |\n",
            "+-------------+------------------+\n",
            "|    DS3010   |   Data Science   |\n",
            "|    CS4120   | Computer Science |\n",
            "|   MIS 4084  |     Business     |\n",
            "+-------------+------------------+\n"
          ]
        }
      ],
      "source": [
        "from prettytable import PrettyTable\n",
        "\n",
        "# Example Table\n",
        "example_table = PrettyTable() # Initialize Table\n",
        "example_table.field_names = [\"Course Name\", \"Department\"] # Declare column names\n",
        "\n",
        "# Add each row\n",
        "example_table.add_row([\"DS3010\", \"Data Science\"])\n",
        "example_table.add_row([\"CS4120\", \"Computer Science\"])\n",
        "example_table.add_row([\"MIS 4084\", \"Business\"])\n",
        "\n",
        "# Display table\n",
        "print(example_table)"
      ]
    },
    {
      "cell_type": "code",
      "execution_count": 121,
      "metadata": {
        "id": "V_ZHKBRuA18e"
      },
      "outputs": [
        {
          "name": "stdout",
          "output_type": "stream",
          "text": [
            "+-------+-------+\n",
            "|  Word | Count |\n",
            "+-------+-------+\n",
            "|  the  |  150  |\n",
            "|   a   |   92  |\n",
            "|   to  |   85  |\n",
            "|   of  |   83  |\n",
            "|  and  |   73  |\n",
            "|   in  |   49  |\n",
            "|  for  |   43  |\n",
            "|   is  |   36  |\n",
            "| space |   29  |\n",
            "|   on  |   29  |\n",
            "+-------+-------+\n",
            "+------------------+-------+\n",
            "|      Author      | Count |\n",
            "+------------------+-------+\n",
            "|  Passant Rabie   |   6   |\n",
            "|   Trevor Mogg    |   3   |\n",
            "|   Ramin Skibba   |   2   |\n",
            "|   Becca Lewis    |   2   |\n",
            "|  Justin Carter   |   2   |\n",
            "|  Sam Rutherford  |   2   |\n",
            "|  Stephen Clark   |   2   |\n",
            "| Lindsey Ellefson |   2   |\n",
            "|  Joe Rossignol   |   2   |\n",
            "|   Donald Papp    |   2   |\n",
            "+------------------+-------+\n",
            "+------------------+-------+\n",
            "|      Source      | Count |\n",
            "+------------------+-------+\n",
            "| Business Insider |   13  |\n",
            "|   Gizmodo.com    |   12  |\n",
            "|  Lifehacker.com  |   10  |\n",
            "|     Engadget     |   8   |\n",
            "|      Wired       |   7   |\n",
            "|  Digital Trends  |   6   |\n",
            "|   Boing Boing    |   5   |\n",
            "|     Hackaday     |   5   |\n",
            "|    MacRumors     |   4   |\n",
            "|    The Verge     |   3   |\n",
            "+------------------+-------+\n"
          ]
        }
      ],
      "source": [
        "# save lists of authors sources descriptions and content\n",
        "authors = [ article['author'] for article in d['articles'] ]\n",
        "sources = [ article['source']['name'] for article in d['articles'] ]\n",
        "descriptions = [ article['description'] for article in d['articles'] ]\n",
        "content = [ article['content'] for article in d['articles'] ]\n",
        "\n",
        "# Compute a collection of all words from all articles\n",
        "words = [ w\n",
        "          for d in descriptions\n",
        "              for w in d.split() ]\n",
        "\n",
        "# create a counter for word count\n",
        "from collections import Counter\n",
        "for item in [authors, sources, words]:\n",
        "    c = Counter(item)\n",
        "\n",
        "# Creating table\n",
        "for label, f in (('Word', words), ('Author', authors), ('Source', sources)):\n",
        "    pt = PrettyTable(field_names=[label, 'Count']) # intitalizing table\n",
        "    c = Counter(f) # accessing counter \n",
        "\n",
        "    [ pt.add_row(kv) for kv in c.most_common()[:10] ] # getting common words\n",
        "    \n",
        "    #pt.align[label], pt.align['Count'] = 'l', 'r' # Set column alignment\n",
        "    print(pt)\n",
        "\n",
        "    ## NEEDS TO BE SHORTENED TO WORDS ONLY\n",
        "\n",
        "# for l in words:\n",
        "#     pt = PrettyTable(field_names = ['Word', 'Count']) # intitalizing table\n",
        "#     c = Counter(l) # accessing counter \n",
        "\n",
        "#     [ pt.add_row(kv) for kv in c.most_common()[:10] ] # getting common words\n",
        "    \n",
        "#     #pt.align[label], pt.align['Count'] = 'l', 'r' # Set column alignment\n",
        "#     print(pt)"
      ]
    },
    {
      "cell_type": "markdown",
      "metadata": {
        "id": "DMigKzFlA18e"
      },
      "source": [
        "**2. Find the most popular news sources and authors in your articles**\n",
        "\n",
        "* Please provide a table of the top 10 authors and sources that are the most popular among your collection.\n"
      ]
    },
    {
      "cell_type": "code",
      "execution_count": 126,
      "metadata": {
        "id": "JrxgbEBRA18f"
      },
      "outputs": [
        {
          "name": "stdout",
          "output_type": "stream",
          "text": [
            "+------------------+-------+\n",
            "|      Author      | Count |\n",
            "+------------------+-------+\n",
            "|  Passant Rabie   |   6   |\n",
            "|   Trevor Mogg    |   3   |\n",
            "|   Ramin Skibba   |   2   |\n",
            "|   Becca Lewis    |   2   |\n",
            "|  Justin Carter   |   2   |\n",
            "|  Sam Rutherford  |   2   |\n",
            "|  Stephen Clark   |   2   |\n",
            "| Lindsey Ellefson |   2   |\n",
            "|  Joe Rossignol   |   2   |\n",
            "|   Donald Papp    |   2   |\n",
            "+------------------+-------+\n",
            "+------------------+-------+\n",
            "|      Source      | Count |\n",
            "+------------------+-------+\n",
            "| Business Insider |   13  |\n",
            "|   Gizmodo.com    |   12  |\n",
            "|  Lifehacker.com  |   10  |\n",
            "|     Engadget     |   8   |\n",
            "|      Wired       |   7   |\n",
            "|  Digital Trends  |   6   |\n",
            "|   Boing Boing    |   5   |\n",
            "|     Hackaday     |   5   |\n",
            "|    MacRumors     |   4   |\n",
            "|    The Verge     |   3   |\n",
            "+------------------+-------+\n"
          ]
        }
      ],
      "source": [
        "\n",
        "# Creating table\n",
        "for label, f in (('Author', authors), ('Source', sources)):\n",
        "    pt = PrettyTable(field_names=[label, 'Count']) # intitalizing table\n",
        "    c = Counter(f) # accessing counter \n",
        "\n",
        "    [ pt.add_row(kv) for kv in c.most_common()[:10] ] # getting common words\n",
        "    \n",
        "    #pt.align[label], pt.align['Count'] = 'l', 'r' # Set column alignment\n",
        "    print(pt)\n"
      ]
    },
    {
      "cell_type": "markdown",
      "metadata": {
        "id": "fbUOQT32A18f"
      },
      "source": [
        "**3. What is the lexical diversity in your descriptions and contents**\n",
        "\n",
        "* For two popular authors or two popular sources, please compare the lexical diversity of their descriptions and contents.  \n",
        "Which one is more diverse?  \n",
        "  * Open ended questions: Does this make sense?  Why or why not? What might lexical diversity tell us about the author or source?"
      ]
    },
    {
      "cell_type": "code",
      "execution_count": 154,
      "metadata": {
        "id": "DKYkobrzA18f"
      },
      "outputs": [
        {
          "name": "stdout",
          "output_type": "stream",
          "text": [
            "Passant Rabie Lexical Diversity: 0.34781644943164647\n",
            "Trevor Mogg Lexical Diversity: 0.422685070702765\n"
          ]
        }
      ],
      "source": [
        "# Function for computing lexical diversity\n",
        "def lexical_diversity(tokens):\n",
        "    return 1.0*len(set(tokens))/len(tokens)\n",
        "\n",
        "ld = 0\n",
        "sum = 0\n",
        "\n",
        "for article in d['articles']:\n",
        "    if article['author'] == 'Passant Rabie':\n",
        "        ld += lexical_diversity(article['content']) + lexical_diversity(article['description'])\n",
        "        sum += 1\n",
        "\n",
        "#Trevor Mogg is more diverse because a score of 1\n",
        "print(\"Passant Rabie Lexical Diversity:\", ld/sum)\n",
        "\n",
        "ld = 0\n",
        "sum = 0\n",
        "\n",
        "for article in d['articles']:\n",
        "    if article['author'] == 'Trevor Mogg':\n",
        "        ld += lexical_diversity(article['content']) + lexical_diversity(article['description'])\n",
        "        sum += 1\n",
        "\n",
        "print(\"Trevor Mogg Lexical Diversity:\", ld/sum)"
      ]
    },
    {
      "cell_type": "markdown",
      "metadata": {
        "id": "wDEowibWd8jp"
      },
      "source": []
    },
    {
      "cell_type": "markdown",
      "metadata": {
        "id": "sLEC3fX_A18g"
      },
      "source": [
        "\n",
        "\n",
        "# Problem 3 (20 points): Image processing\n"
      ]
    },
    {
      "cell_type": "markdown",
      "metadata": {
        "id": "-wTKbSAnA18g"
      },
      "source": [
        "* For each news article, download the image associated with it (using the urlToImage field).\n",
        "* Do these images tell you anything about the news articles?  If so, what?"
      ]
    },
    {
      "cell_type": "code",
      "execution_count": 158,
      "metadata": {
        "id": "YI8np92oA18h"
      },
      "outputs": [],
      "source": [
        "from IPython.display import Image\n",
        "image_urls = {}\n",
        "\n",
        "i=0\n",
        "\n",
        "# for every artivcle, we try to save if there is one\n",
        "for article in d['articles']:\n",
        "  i += 1\n",
        "  try:\n",
        "    image_url = article['urlToImage']\n",
        "    article = article\n",
        "    image = Image(url=image_url)\n",
        "    #display(image) #\n",
        "    image_urls[i]=(image_url) \n",
        "  except ValueError:\n",
        "    print('no image')"
      ]
    },
    {
      "cell_type": "markdown",
      "metadata": {
        "id": "fveqbyjxeHKQ"
      },
      "source": []
    },
    {
      "cell_type": "markdown",
      "metadata": {
        "id": "cGOvRwzxA18h"
      },
      "source": [
        "* Let's automate the process!  Use Hugging Face's transformers library to download a pre-trained image segmentation model.\n",
        "  * See my notebook from class 3 for an example of how to do this.\n",
        "* Open ended question: Collect statistics on what appears in the images for your news articles? What does this tell you?"
      ]
    },
    {
      "cell_type": "code",
      "execution_count": 10,
      "metadata": {
        "id": "FGOM-EKTA18i"
      },
      "outputs": [
        {
          "data": {
            "application/vnd.jupyter.widget-view+json": {
              "model_id": "96d3729f8ea7419ea6033a749b09ad06",
              "version_major": 2,
              "version_minor": 0
            },
            "text/plain": [
              "VBox(children=(HTML(value='<center> <img\\nsrc=https://huggingface.co/front/assets/huggingface_logo-noborder.sv…"
            ]
          },
          "metadata": {},
          "output_type": "display_data"
        }
      ],
      "source": [
        "# imports\n",
        "#! pip install -q datasets transformers evaluate timm albumentations\n",
        "#! pip install ipywidgets\n",
        "\n",
        "from huggingface_hub import notebook_login\n",
        "notebook_login()\n"
      ]
    },
    {
      "cell_type": "code",
      "execution_count": 14,
      "metadata": {},
      "outputs": [
        {
          "ename": "NameError",
          "evalue": "name 'image_urls' is not defined",
          "output_type": "error",
          "traceback": [
            "\u001b[0;31m---------------------------------------------------------------------------\u001b[0m",
            "\u001b[0;31mNameError\u001b[0m                                 Traceback (most recent call last)",
            "\u001b[1;32m/Users/ashleigh/Documents/Python/DS3010/DS3010_Repo/DS3010_A/Case_Studies/CaseStudy1_NewsAPI.ipynb Cell 31\u001b[0m line \u001b[0;36m6\n\u001b[1;32m      <a href='vscode-notebook-cell:/Users/ashleigh/Documents/Python/DS3010/DS3010_Repo/DS3010_A/Case_Studies/CaseStudy1_NewsAPI.ipynb#X56sZmlsZQ%3D%3D?line=2'>3</a>\u001b[0m \u001b[39mfrom\u001b[39;00m \u001b[39mPIL\u001b[39;00m \u001b[39mimport\u001b[39;00m Image, ImageDraw\n\u001b[1;32m      <a href='vscode-notebook-cell:/Users/ashleigh/Documents/Python/DS3010/DS3010_Repo/DS3010_A/Case_Studies/CaseStudy1_NewsAPI.ipynb#X56sZmlsZQ%3D%3D?line=4'>5</a>\u001b[0m \u001b[39m# Pick an image\u001b[39;00m\n\u001b[0;32m----> <a href='vscode-notebook-cell:/Users/ashleigh/Documents/Python/DS3010/DS3010_Repo/DS3010_A/Case_Studies/CaseStudy1_NewsAPI.ipynb#X56sZmlsZQ%3D%3D?line=5'>6</a>\u001b[0m image_url \u001b[39m=\u001b[39m image_urls[\u001b[39m1\u001b[39m]\n\u001b[1;32m      <a href='vscode-notebook-cell:/Users/ashleigh/Documents/Python/DS3010/DS3010_Repo/DS3010_A/Case_Studies/CaseStudy1_NewsAPI.ipynb#X56sZmlsZQ%3D%3D?line=7'>8</a>\u001b[0m image \u001b[39m=\u001b[39m Image\u001b[39m.\u001b[39mopen(requests\u001b[39m.\u001b[39mget(image_url, stream\u001b[39m=\u001b[39m\u001b[39mTrue\u001b[39;00m)\u001b[39m.\u001b[39mraw)\n\u001b[1;32m     <a href='vscode-notebook-cell:/Users/ashleigh/Documents/Python/DS3010/DS3010_Repo/DS3010_A/Case_Studies/CaseStudy1_NewsAPI.ipynb#X56sZmlsZQ%3D%3D?line=9'>10</a>\u001b[0m obj_detector \u001b[39m=\u001b[39m pipeline(\u001b[39m\"\u001b[39m\u001b[39mobject-detection\u001b[39m\u001b[39m\"\u001b[39m)\n",
            "\u001b[0;31mNameError\u001b[0m: name 'image_urls' is not defined"
          ]
        }
      ],
      "source": [
        "from transformers import pipeline\n",
        "import requests\n",
        "from PIL import Image, ImageDraw\n",
        "\n",
        "# Pick an image\n",
        "image_url = image_urls[1]\n",
        "\n",
        "image = Image.open(requests.get(image_url, stream=True).raw)\n",
        "\n",
        "obj_detector = pipeline(\"object-detection\")\n",
        "\n",
        "results = obj_detector(image)"
      ]
    },
    {
      "cell_type": "markdown",
      "metadata": {
        "id": "Q2e8ivKxeIbA"
      },
      "source": []
    },
    {
      "cell_type": "markdown",
      "metadata": {
        "id": "4B53GdUzA18i"
      },
      "source": [
        "\n",
        "\n",
        "# Problem 4 (20 points): Business question\n",
        "\n",
        "Run some additional experiments with your data to gain familiarity with the NewsAPI.\n",
        "\n",
        "* Come up with a business question that NewsAPI data could help answer.\n",
        "* Decribe the business case.\n",
        "* How could NewsAPI data help a company decide how to spend its resources."
      ]
    },
    {
      "cell_type": "code",
      "execution_count": null,
      "metadata": {
        "id": "FomaD-F0A18i"
      },
      "outputs": [],
      "source": [
        "#----------------------------------------------\n",
        "# Your code starts here\n",
        "#   Please add comments or text cells in between to explain the general idea of each block of the code.\n",
        "#   Please feel free to add more cells below this cell if necessary\n",
        "\n",
        "\n",
        "\n"
      ]
    },
    {
      "cell_type": "markdown",
      "metadata": {
        "id": "JDN4q-q5eCE-"
      },
      "source": []
    },
    {
      "cell_type": "markdown",
      "metadata": {
        "id": "qCrHmit6A18j"
      },
      "source": [
        "\n",
        "# Done\n",
        "\n",
        "All set!\n",
        "\n",
        "** What do you need to submit?**\n",
        "\n",
        "* **Notebook File**: Save this IPython notebook, and find the notebook file in your folder (for example, \"filename.ipynb\"). This is the file you need to submit. Please make sure all the plotted tables and figures are in the notebook. If you used \"ipython notebook --pylab=inline\" to open the notebook, all the figures and tables should have shown up in the notebook.\n",
        "\n",
        "\n",
        "* **PPT Slides**: please prepare PPT slides (for 15 minutes' talk) to present about the case study . ALL TEAMS WILL PRESENT THEIR WORK!\n",
        "\n",
        "* ** Report**: please prepare a report (less than 10 pages) to report what you found in the data.\n",
        "    * What data you collected?\n",
        "    * Why this topic is interesting or important to you? (Motivations)\n",
        "    * How did you analyse the data?\n",
        "    * What did you find in the data?\n",
        "\n",
        "     (please include figures or tables in the report, but no source code)\n",
        "\n",
        "Please compress all the files in a zipped file.\n",
        "\n",
        "\n",
        "** How to submit: **\n",
        "\n",
        "        Please submit a single zip file with all the materials through the class canvas site.\n",
        "        \n",
        "** Note: Each team just needs to submits one submission **"
      ]
    },
    {
      "cell_type": "markdown",
      "metadata": {
        "id": "w_y_VpkSA18j"
      },
      "source": [
        "# Grading Criteria:\n",
        "\n",
        "** Totoal Points: 100 **\n",
        "\n",
        "\n",
        "---------------------------------------------------------------------------\n",
        "** Notebook results:  **\n",
        "    Points: 80\n",
        "\n",
        "\n",
        "    -----------------------------------\n",
        "    Qestion 1:\n",
        "    Points: 20\n",
        "    -----------------------------------\n",
        "    \n",
        "    (1) Select a topic that you are interested in.\n",
        "    Points: 6\n",
        "    \n",
        "    (2) Use the NewsAPI to sample a collection of news articles about this topic. (It would be recommended that the number of articles should be larger than 200, but smaller than 100,000. Please check whether the total number of tweets collected is larger than 200.\n",
        "    Points: 10\n",
        "    \n",
        "    \n",
        "    (3) Store the articles you downloaded into a file on Google Drive (txt file or json file)\n",
        "    Points: 4\n",
        "    \n",
        "    \n",
        "    -----------------------------------\n",
        "    Qestion 2:\n",
        "    Points: 20\n",
        "    -----------------------------------\n",
        "    \n",
        "    1. Word Count\n",
        "\n",
        "    (1) Use the news articles you collected in Problem 1, and compute the frequencies of the words being used in these articles.\n",
        "    Points: 5\n",
        "\n",
        "    (2) Plot a table of the top 30 words with their counts\n",
        "    Points: 5\n",
        "    \n",
        "    2. Please provide a table of the top 10 authors and sources that are the most popular among your collection.\n",
        "    Points: 5\n",
        "    \n",
        "    3. For two popular authors or two popular sources, please compare the lexical diversity of their descriptions and contents.\n",
        "    Points: 5\n",
        "      \n",
        "    -----------------------------------\n",
        "    Qestion 3:\n",
        "    Points: 20\n",
        "    -----------------------------------\n",
        "    \n",
        "    (1) For each news article, download the image associated with it (using the urlToImage field).\n",
        "    Points: 10\n",
        "\n",
        "    (2) Use Hugging Face's transformers library to download a pre-trained image segmentation model.\n",
        "    Points: 10\n",
        "  \n",
        "    -----------------------------------\n",
        "    Qestion 4:  Business question\n",
        "    Points: 20\n",
        "    -----------------------------------\n",
        "        Novelty: 10\n",
        "        Interestingness: 10\n",
        "    -----------------------------------\n",
        "    Run some additional experiments with your data to gain familiarity with the NewsAPI.  Come up with a business question and describe how NewsAPI data can help you answer that question.\n",
        "\n",
        "\n",
        "\n",
        "---------------------------------------------------------------------------\n",
        "**Slides (for presentation): Story-telling**\n",
        "    Points: 20\n",
        "\n",
        "\n",
        "1. Motivation about the data collection, why the topic is interesting to you.\n",
        "    Points: 5\n",
        "\n",
        "2. Communicating Results (figure/table)\n",
        "    Points: 10\n",
        "\n",
        "3. Story telling (How all the parts (data, analysis, result) fit together as a story?)\n",
        "    Points: 5\n",
        "\n"
      ]
    },
    {
      "cell_type": "code",
      "execution_count": null,
      "metadata": {
        "id": "PscVSVMuA18j"
      },
      "outputs": [],
      "source": []
    }
  ],
  "metadata": {
    "anaconda-cloud": {},
    "colab": {
      "include_colab_link": true,
      "provenance": []
    },
    "kernel_info": {
      "name": "python3"
    },
    "kernelspec": {
      "display_name": "Python 3",
      "language": "python",
      "name": "python3"
    },
    "language_info": {
      "codemirror_mode": {
        "name": "ipython",
        "version": 3
      },
      "file_extension": ".py",
      "mimetype": "text/x-python",
      "name": "python",
      "nbconvert_exporter": "python",
      "pygments_lexer": "ipython3",
      "version": "3.10.0"
    },
    "nteract": {
      "version": "0.2.0"
    }
  },
  "nbformat": 4,
  "nbformat_minor": 0
}
