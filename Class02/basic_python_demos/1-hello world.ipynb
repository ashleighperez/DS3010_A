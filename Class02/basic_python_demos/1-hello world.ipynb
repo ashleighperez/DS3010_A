{
  "cells": [
    {
      "cell_type": "code",
      "execution_count": 8,
      "metadata": {
        "id": "gdxlKxbgDi4S",
        "outputId": "845ed377-1a1c-43b0-8762-96a182b7b9a8",
        "colab": {
          "base_uri": "https://localhost:8080/"
        }
      },
      "outputs": [
        {
          "output_type": "execute_result",
          "data": {
            "text/plain": [
              "20"
            ]
          },
          "metadata": {},
          "execution_count": 8
        }
      ],
      "source": [
        "2+2*9"
      ]
    },
    {
      "cell_type": "code",
      "execution_count": 9,
      "metadata": {
        "id": "o5tZ57YbDi4V",
        "outputId": "fcbd9426-9c65-4da6-852d-804b61b82175",
        "colab": {
          "base_uri": "https://localhost:8080/"
        }
      },
      "outputs": [
        {
          "output_type": "stream",
          "name": "stdout",
          "text": [
            "The ponytail must go!\n"
          ]
        }
      ],
      "source": [
        "print('The ponytail must go!')"
      ]
    },
    {
      "cell_type": "code",
      "execution_count": 10,
      "metadata": {
        "id": "sL9ar7OwDi4W"
      },
      "outputs": [],
      "source": [
        "A = [1,2,3,4]"
      ]
    },
    {
      "cell_type": "code",
      "execution_count": 11,
      "metadata": {
        "id": "ATUYmR8fDi4W",
        "outputId": "81876bd4-ee3c-4094-c607-0e96e8af99ba",
        "colab": {
          "base_uri": "https://localhost:8080/"
        }
      },
      "outputs": [
        {
          "output_type": "stream",
          "name": "stdout",
          "text": [
            "[1, 2, 3, 4]\n"
          ]
        }
      ],
      "source": [
        "print(A)"
      ]
    },
    {
      "cell_type": "code",
      "execution_count": 12,
      "metadata": {
        "id": "4PVroLphDi4X",
        "outputId": "93d98c60-ac6a-4b57-b53d-935073a7369a",
        "colab": {
          "base_uri": "https://localhost:8080/"
        }
      },
      "outputs": [
        {
          "output_type": "execute_result",
          "data": {
            "text/plain": [
              "4"
            ]
          },
          "metadata": {},
          "execution_count": 12
        }
      ],
      "source": [
        "len(A)"
      ]
    },
    {
      "cell_type": "code",
      "execution_count": 13,
      "metadata": {
        "id": "PdD8YDjbDi4X"
      },
      "outputs": [],
      "source": [
        "def f(x,y):\n",
        "    return x+y"
      ]
    },
    {
      "cell_type": "code",
      "execution_count": 14,
      "metadata": {
        "id": "7wXhzGp4Di4X",
        "outputId": "917ea12f-6f88-4207-bdbf-776e54b0ae93",
        "colab": {
          "base_uri": "https://localhost:8080/"
        }
      },
      "outputs": [
        {
          "output_type": "execute_result",
          "data": {
            "text/plain": [
              "9"
            ]
          },
          "metadata": {},
          "execution_count": 14
        }
      ],
      "source": [
        "f(4,5)"
      ]
    },
    {
      "cell_type": "markdown",
      "metadata": {
        "id": "ppAxsK5CDi4Y"
      },
      "source": [
        "# Headings too!"
      ]
    },
    {
      "cell_type": "markdown",
      "metadata": {
        "id": "X4-Py-9tDi4a"
      },
      "source": [
        "* foo\n",
        "* bar\n",
        "* foobar"
      ]
    },
    {
      "cell_type": "markdown",
      "metadata": {
        "id": "FgzBGRXkDi4b"
      },
      "source": [
        "1. foo\n",
        "2. bar\n",
        "3. foobar"
      ]
    },
    {
      "cell_type": "markdown",
      "metadata": {
        "id": "uOKvWCx2Di4b"
      },
      "source": [
        "![alt text](http://www.ssd.noaa.gov/PS/PCPN/DATA/RT/NA/IR4/20.jpg)"
      ]
    },
    {
      "cell_type": "markdown",
      "metadata": {
        "id": "iRGg2Le1Di4b"
      },
      "source": [
        "## Another heading"
      ]
    },
    {
      "cell_type": "markdown",
      "metadata": {
        "id": "SnJTIYZLDi4c"
      },
      "source": [
        "Nice math typesetting\n",
        "$$\n",
        "\\int_{-\\infty}^{\\infty} e^{2 \\pi x} dx\n",
        "$$"
      ]
    },
    {
      "cell_type": "markdown",
      "metadata": {
        "id": "jwZ9U-IXDi4c"
      },
      "source": [
        "Nice code typesetting\n",
        "```python\n",
        "s = \"Python syntax highlighting\"\n",
        "print s\n",
        "```"
      ]
    },
    {
      "cell_type": "markdown",
      "metadata": {
        "id": "37bRVmSfDi4c"
      },
      "source": [
        "Did I mention this is all **free**!?"
      ]
    },
    {
      "cell_type": "code",
      "execution_count": 14,
      "metadata": {
        "id": "CP9eKQyJDi4d"
      },
      "outputs": [],
      "source": [
        ""
      ]
    }
  ],
  "metadata": {
    "kernelspec": {
      "display_name": "Python 3",
      "language": "python",
      "name": "python3"
    },
    "language_info": {
      "codemirror_mode": {
        "name": "ipython",
        "version": 3
      },
      "file_extension": ".py",
      "mimetype": "text/x-python",
      "name": "python",
      "nbconvert_exporter": "python",
      "pygments_lexer": "ipython3",
      "version": "3.8.5"
    },
    "colab": {
      "name": "1-hello world.ipynb",
      "provenance": []
    }
  },
  "nbformat": 4,
  "nbformat_minor": 0
}